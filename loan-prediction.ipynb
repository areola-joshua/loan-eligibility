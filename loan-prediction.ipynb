{
 "cells": [
  {
   "cell_type": "markdown",
   "metadata": {
    "id": "fJE9JR7JSj8O"
   },
   "source": [
    "# 1. Introduction\n",
    "\n",
    "<center><img src=\"https://images.unsplash.com/photo-1553729459-efe14ef6055d?ixid=MnwxMjA3fDB8MHxwaG90by1wYWdlfHx8fGVufDB8fHx8&ixlib=rb-1.2.1&auto=format&fit=crop&w=2070&q=80\" alt=\"Loan Picture\" width=\"600\" height=\"600\"></center><br>\n",
    "\n",
    "## Data Set Problems\n",
    "\n",
    "👉 The company seeks **to automate (in real time) the loan qualifying procedure** based on information given by customers while filling out an online application form. It is expected that the development of ML models that can help the company predict loan approval in **accelerating decision-making process** for determining whether an applicant is eligible for a loan or not.\n",
    "\n",
    "---\n",
    "\n",
    "## Objectives of Notebook\n",
    "👉 **This notebook aims to:**\n",
    "*   Analyze customer data provided in data set (EDA)\n",
    "*   Build various ML models that can predict loan approval\n",
    "\n",
    "👨‍💻 **The machine learning models used in this project are:** \n",
    "1. Logistic Regression\n",
    "2. K-Nearest Neighbour (KNN)\n",
    "3. Support Vector Machine (SVM)\n",
    "4. Naive Bayes\n",
    "5. Decision Tree\n",
    "6. Random Forest\n",
    "7. Gradient Boost\n",
    "\n",
    "---\n",
    "\n",
    "## Data Set Description\n",
    "👉 There are **13 variables** in this data set:\n",
    "*   **8 categorical** variables,\n",
    "*   **4 continuous** variables, and\n",
    "*   **1** variable to accommodate the loan ID.\n",
    "\n",
    "<br>\n",
    "\n",
    "👉 The following is the **structure of the data set**.\n",
    "\n",
    "\n",
    "<table style=\"width:100%\">\n",
    "<thead>\n",
    "<tr>\n",
    "<th style=\"text-align:center; font-weight: bold; font-size:14px\">Variable Name</th>\n",
    "<th style=\"text-align:center; font-weight: bold; font-size:14px\">Description</th>\n",
    "<th style=\"text-align:center; font-weight: bold; font-size:14px\">Sample Data</th>\n",
    "</tr>\n",
    "</thead>\n",
    "<tbody>\n",
    "<tr>\n",
    "<td><b>Loan_ID</b></td>\n",
    "<td>Loan reference number <br> (unique ID)</td>\n",
    "<td>LP001002; LP001003; ...</td>\n",
    "</tr>\n",
    "<tr>\n",
    "<td><b>Gender</b></td>\n",
    "<td>Applicant gender <br> (Male or Female)</td>\n",
    "<td>Male; Female</td>\n",
    "</tr>\n",
    "<tr>\n",
    "<td><b>Married</b></td>\n",
    "<td>Applicant marital status <br> (Married or not married)</td>\n",
    "<td>Married; Not Married</td>\n",
    "</tr>\n",
    "<tr>\n",
    "<td><b>Dependents</b></td>\n",
    "<td>Number of family members</td>\n",
    "<td>0; 1; 2; 3+</td>\n",
    "</tr>\n",
    "<tr>\n",
    "<td><b>Education</b></td>\n",
    "<td>Applicant education/qualification <br> (graduate or not graduate)</td>\n",
    "<td>Graduate; Under Graduate</td>\n",
    "</tr>\n",
    "<tr>\n",
    "<td><b>Self_Employed</b></td>\n",
    "<td>Applicant employment status <br> (yes for self-employed, no for employed/others)</td>\n",
    "<td>Yes; No</td>\n",
    "</tr>\n",
    "<tr>\n",
    "<td><b>ApplicantIncome</b></td>\n",
    "<td>Applicant's monthly salary/income</td>\n",
    "<td>5849; 4583; ...</td>\n",
    "</tr>\n",
    "<tr>\n",
    "<td><b>CoapplicantIncome</b></td>\n",
    "<td>Additional applicant's monthly salary/income</td>\n",
    "<td>1508; 2358; ...</td>\n",
    "</tr>\n",
    "<tr>\n",
    "<td><b>LoanAmount</b></td>\n",
    "<td>Loan amount</td>\n",
    "<td>128; 66; ...</td>\n",
    "</tr>\n",
    "<tr>\n",
    "<td><b>Loan_Amount_Term</b></td>\n",
    "<td>The loan's repayment period (in days)</td>\n",
    "<td>360; 120; ...</td>\n",
    "</tr>\n",
    "<tr>\n",
    "<td><b>Credit_History</b></td>\n",
    "<td>Records of previous credit history <br> (0: bad credit history, 1: good credit history)</td>\n",
    "<td>0; 1</td>\n",
    "</tr>\n",
    "<tr>\n",
    "<td><b>Property_Area</b></td>\n",
    "<td>The location of property <br> (Rural/Semiurban/Urban)</td>\n",
    "<td>Rural; Semiurban; Urban</td>\n",
    "</tr>\n",
    "<tr>\n",
    "<td><b>Loan_Status</b></td>\n",
    "<td>Status of loan <br> (Y: accepted, N: not accepted)</td>\n",
    "<td>Y; N</td>\n",
    "</tr>\n",
    "</tbody>\n",
    "</table>\n",
    "\n",
    "---"
   ]
  },
  {
   "cell_type": "markdown",
   "metadata": {},
   "source": [
    "### A little about myself\n",
    "`My name is Areola Joshua, A recent Graduate from the Department of Applied Geophysics of the Federal University of Technology Akure, Nigeria. My passion for Programming especially Data Analysis, Machine learning and Neural Network has been tremendous, coupled with Certificates, Bootcamps and Presentation awards. I enjoy what I do most which is Model building for solving problems across fields. Check me out;`\n",
    "           - Github: www.github.com/areola-joshua\n",
    "           - Linkedin: www.linkedin.com/areola-joshua\n"
   ]
  },
  {
   "cell_type": "markdown",
   "metadata": {
    "id": "r238zFy8f-xl"
   },
   "source": [
    "# 2. Importing Libraries 📚\n",
    "👉 Importing libraries that will be used in this notebook."
   ]
  },
  {
   "cell_type": "code",
   "execution_count": 47,
   "metadata": {
    "execution": {
     "iopub.execute_input": "2024-02-13T13:43:05.282856Z",
     "iopub.status.busy": "2024-02-13T13:43:05.282540Z",
     "iopub.status.idle": "2024-02-13T13:43:05.291019Z",
     "shell.execute_reply": "2024-02-13T13:43:05.289990Z",
     "shell.execute_reply.started": "2024-02-13T13:43:05.282823Z"
    },
    "id": "0tAGJPoeKrfI"
   },
   "outputs": [],
   "source": [
    "import numpy as np\n",
    "import pandas as pd\n",
    "import matplotlib.pyplot as plt\n",
    "import missingno as mso\n",
    "import seaborn as sns\n",
    "import warnings\n",
    "import os\n",
    "import scipy\n",
    "\n",
    "from scipy import stats\n",
    "from scipy.stats import pearsonr\n",
    "from scipy.stats import ttest_ind\n",
    "from sklearn.metrics import classification_report\n",
    "from sklearn.metrics import confusion_matrix\n",
    "from sklearn.preprocessing import MinMaxScaler\n",
    "from sklearn.model_selection import train_test_split\n",
    "from imblearn.over_sampling import SMOTE\n",
    "\n",
    "from sklearn.linear_model import LogisticRegression\n",
    "from sklearn.neighbors import KNeighborsClassifier\n",
    "from sklearn.svm import SVC\n",
    "from sklearn.naive_bayes import CategoricalNB\n",
    "from sklearn.naive_bayes import GaussianNB\n",
    "from sklearn.tree import DecisionTreeClassifier\n",
    "from sklearn.ensemble import RandomForestClassifier\n",
    "from sklearn.ensemble import GradientBoostingClassifier\n",
    "from xgboost import XGBClassifier\n",
    "from sklearn.model_selection import GridSearchCV, RandomizedSearchCV"
   ]
  },
  {
   "cell_type": "markdown",
   "metadata": {
    "id": "_3IOljdqgEd0"
   },
   "source": [
    "# 3. Reading Data Set 👓\n",
    "👉 After importing libraries, we will also import the dataset that will be used."
   ]
  },
  {
   "cell_type": "code",
   "execution_count": 48,
   "metadata": {
    "execution": {
     "iopub.execute_input": "2024-02-13T13:43:05.293794Z",
     "iopub.status.busy": "2024-02-13T13:43:05.292864Z",
     "iopub.status.idle": "2024-02-13T13:43:05.330877Z",
     "shell.execute_reply": "2024-02-13T13:43:05.330026Z",
     "shell.execute_reply.started": "2024-02-13T13:43:05.293605Z"
    },
    "executionInfo": {
     "elapsed": 12,
     "status": "ok",
     "timestamp": 1636215157136,
     "user": {
      "displayName": "Mario Caesar",
      "photoUrl": "https://lh3.googleusercontent.com/a-/AOh14GheyOtCjw9bQyrYjdnb46Fp9pWuEIUHVSHLqwMBBw=s64",
      "userId": "15479329890797732984"
     },
     "user_tz": -420
    },
    "id": "-9VxuECvXJIR",
    "outputId": "e10713bf-2767-4654-d655-1aae2b4c78d3"
   },
   "outputs": [
    {
     "data": {
      "text/html": [
       "<div>\n",
       "<style scoped>\n",
       "    .dataframe tbody tr th:only-of-type {\n",
       "        vertical-align: middle;\n",
       "    }\n",
       "\n",
       "    .dataframe tbody tr th {\n",
       "        vertical-align: top;\n",
       "    }\n",
       "\n",
       "    .dataframe thead th {\n",
       "        text-align: right;\n",
       "    }\n",
       "</style>\n",
       "<table border=\"1\" class=\"dataframe\">\n",
       "  <thead>\n",
       "    <tr style=\"text-align: right;\">\n",
       "      <th></th>\n",
       "      <th>Loan_ID</th>\n",
       "      <th>Gender</th>\n",
       "      <th>Married</th>\n",
       "      <th>Dependents</th>\n",
       "      <th>Education</th>\n",
       "      <th>Self_Employed</th>\n",
       "      <th>ApplicantIncome</th>\n",
       "      <th>CoapplicantIncome</th>\n",
       "      <th>LoanAmount</th>\n",
       "      <th>Loan_Amount_Term</th>\n",
       "      <th>Credit_History</th>\n",
       "      <th>Property_Area</th>\n",
       "      <th>Loan_Status</th>\n",
       "    </tr>\n",
       "  </thead>\n",
       "  <tbody>\n",
       "    <tr>\n",
       "      <th>0</th>\n",
       "      <td>LP001002</td>\n",
       "      <td>Male</td>\n",
       "      <td>No</td>\n",
       "      <td>0</td>\n",
       "      <td>Graduate</td>\n",
       "      <td>No</td>\n",
       "      <td>5849</td>\n",
       "      <td>0.0</td>\n",
       "      <td>NaN</td>\n",
       "      <td>360.0</td>\n",
       "      <td>1.0</td>\n",
       "      <td>Urban</td>\n",
       "      <td>Y</td>\n",
       "    </tr>\n",
       "    <tr>\n",
       "      <th>1</th>\n",
       "      <td>LP001003</td>\n",
       "      <td>Male</td>\n",
       "      <td>Yes</td>\n",
       "      <td>1</td>\n",
       "      <td>Graduate</td>\n",
       "      <td>No</td>\n",
       "      <td>4583</td>\n",
       "      <td>1508.0</td>\n",
       "      <td>128.0</td>\n",
       "      <td>360.0</td>\n",
       "      <td>1.0</td>\n",
       "      <td>Rural</td>\n",
       "      <td>N</td>\n",
       "    </tr>\n",
       "    <tr>\n",
       "      <th>2</th>\n",
       "      <td>LP001005</td>\n",
       "      <td>Male</td>\n",
       "      <td>Yes</td>\n",
       "      <td>0</td>\n",
       "      <td>Graduate</td>\n",
       "      <td>Yes</td>\n",
       "      <td>3000</td>\n",
       "      <td>0.0</td>\n",
       "      <td>66.0</td>\n",
       "      <td>360.0</td>\n",
       "      <td>1.0</td>\n",
       "      <td>Urban</td>\n",
       "      <td>Y</td>\n",
       "    </tr>\n",
       "    <tr>\n",
       "      <th>3</th>\n",
       "      <td>LP001006</td>\n",
       "      <td>Male</td>\n",
       "      <td>Yes</td>\n",
       "      <td>0</td>\n",
       "      <td>Not Graduate</td>\n",
       "      <td>No</td>\n",
       "      <td>2583</td>\n",
       "      <td>2358.0</td>\n",
       "      <td>120.0</td>\n",
       "      <td>360.0</td>\n",
       "      <td>1.0</td>\n",
       "      <td>Urban</td>\n",
       "      <td>Y</td>\n",
       "    </tr>\n",
       "    <tr>\n",
       "      <th>4</th>\n",
       "      <td>LP001008</td>\n",
       "      <td>Male</td>\n",
       "      <td>No</td>\n",
       "      <td>0</td>\n",
       "      <td>Graduate</td>\n",
       "      <td>No</td>\n",
       "      <td>6000</td>\n",
       "      <td>0.0</td>\n",
       "      <td>141.0</td>\n",
       "      <td>360.0</td>\n",
       "      <td>1.0</td>\n",
       "      <td>Urban</td>\n",
       "      <td>Y</td>\n",
       "    </tr>\n",
       "  </tbody>\n",
       "</table>\n",
       "</div>"
      ],
      "text/plain": [
       "    Loan_ID Gender Married Dependents     Education Self_Employed  \\\n",
       "0  LP001002   Male      No          0      Graduate            No   \n",
       "1  LP001003   Male     Yes          1      Graduate            No   \n",
       "2  LP001005   Male     Yes          0      Graduate           Yes   \n",
       "3  LP001006   Male     Yes          0  Not Graduate            No   \n",
       "4  LP001008   Male      No          0      Graduate            No   \n",
       "\n",
       "   ApplicantIncome  CoapplicantIncome  LoanAmount  Loan_Amount_Term  \\\n",
       "0             5849                0.0         NaN             360.0   \n",
       "1             4583             1508.0       128.0             360.0   \n",
       "2             3000                0.0        66.0             360.0   \n",
       "3             2583             2358.0       120.0             360.0   \n",
       "4             6000                0.0       141.0             360.0   \n",
       "\n",
       "   Credit_History Property_Area Loan_Status  \n",
       "0             1.0         Urban           Y  \n",
       "1             1.0         Rural           N  \n",
       "2             1.0         Urban           Y  \n",
       "3             1.0         Urban           Y  \n",
       "4             1.0         Urban           Y  "
      ]
     },
     "execution_count": 48,
     "metadata": {},
     "output_type": "execute_result"
    }
   ],
   "source": [
    "df = pd.read_csv(\"../input/loan-predication/train_u6lujuX_CVtuZ9i (1).csv\")\n",
    "df.head()"
   ]
  },
  {
   "cell_type": "code",
   "execution_count": 49,
   "metadata": {
    "execution": {
     "iopub.execute_input": "2024-02-13T13:43:05.332546Z",
     "iopub.status.busy": "2024-02-13T13:43:05.332300Z",
     "iopub.status.idle": "2024-02-13T13:43:05.337944Z",
     "shell.execute_reply": "2024-02-13T13:43:05.336985Z",
     "shell.execute_reply.started": "2024-02-13T13:43:05.332516Z"
    },
    "executionInfo": {
     "elapsed": 11,
     "status": "ok",
     "timestamp": 1636215157136,
     "user": {
      "displayName": "Mario Caesar",
      "photoUrl": "https://lh3.googleusercontent.com/a-/AOh14GheyOtCjw9bQyrYjdnb46Fp9pWuEIUHVSHLqwMBBw=s64",
      "userId": "15479329890797732984"
     },
     "user_tz": -420
    },
    "id": "QLUH-tNjh1b8",
    "outputId": "fdbfb745-c172-4349-b544-c23caeffb7b9"
   },
   "outputs": [
    {
     "name": "stdout",
     "output_type": "stream",
     "text": [
      "(614, 13)\n"
     ]
    }
   ],
   "source": [
    "print(df.shape)"
   ]
  },
  {
   "cell_type": "markdown",
   "metadata": {
    "id": "icrmwUvviQAX"
   },
   "source": [
    "👉 As can be seen, the **13 columns** are readable. It also can be seen that there are **614 observations** in the data set."
   ]
  },
  {
   "cell_type": "markdown",
   "metadata": {
    "id": "q-gxXHlThKhK"
   },
   "source": [
    "# 4. Data Exploration 🔍\n",
    "👉 This section will perform data exploration of \"raw\" data set that has been imported."
   ]
  },
  {
   "cell_type": "markdown",
   "metadata": {
    "id": "e6VEKBKohdAs"
   },
   "source": [
    "## 4.1 Categorical Variable 📊\n",
    "👉 The first type of variable that I will explore is categorical variable."
   ]
  },
  {
   "cell_type": "markdown",
   "metadata": {
    "id": "R1DsvbVQi2iw"
   },
   "source": [
    "### 4.1.1 Loan ID"
   ]
  },
  {
   "cell_type": "code",
   "execution_count": 50,
   "metadata": {
    "execution": {
     "iopub.execute_input": "2024-02-13T13:43:05.659018Z",
     "iopub.status.busy": "2024-02-13T13:43:05.658689Z",
     "iopub.status.idle": "2024-02-13T13:43:05.670565Z",
     "shell.execute_reply": "2024-02-13T13:43:05.669490Z",
     "shell.execute_reply.started": "2024-02-13T13:43:05.658970Z"
    },
    "executionInfo": {
     "elapsed": 7,
     "status": "ok",
     "timestamp": 1636215157136,
     "user": {
      "displayName": "Mario Caesar",
      "photoUrl": "https://lh3.googleusercontent.com/a-/AOh14GheyOtCjw9bQyrYjdnb46Fp9pWuEIUHVSHLqwMBBw=s64",
      "userId": "15479329890797732984"
     },
     "user_tz": -420
    },
    "id": "NIqCAFjRi5Bo",
    "outputId": "7933cb5a-af01-42a6-8826-85fc89d8df39"
   },
   "outputs": [
    {
     "data": {
      "text/plain": [
       "LP001002    1\n",
       "LP002328    1\n",
       "LP002305    1\n",
       "LP002308    1\n",
       "LP002314    1\n",
       "           ..\n",
       "LP001692    1\n",
       "LP001693    1\n",
       "LP001698    1\n",
       "LP001699    1\n",
       "LP002990    1\n",
       "Name: Loan_ID, Length: 614, dtype: int64"
      ]
     },
     "execution_count": 50,
     "metadata": {},
     "output_type": "execute_result"
    }
   ],
   "source": [
    "df.Loan_ID.value_counts(dropna=False)"
   ]
  },
  {
   "cell_type": "markdown",
   "metadata": {
    "id": "12npx9e_i7xB"
   },
   "source": [
    "👉 It can be seen that there are 614 unique ID in the dataset."
   ]
  },
  {
   "cell_type": "markdown",
   "metadata": {
    "id": "P0PIgD0sizNr"
   },
   "source": [
    "### 4.1.2 Gender"
   ]
  },
  {
   "cell_type": "code",
   "execution_count": 51,
   "metadata": {
    "execution": {
     "iopub.execute_input": "2024-02-13T13:43:05.676190Z",
     "iopub.status.busy": "2024-02-13T13:43:05.675910Z",
     "iopub.status.idle": "2024-02-13T13:43:05.684538Z",
     "shell.execute_reply": "2024-02-13T13:43:05.683758Z",
     "shell.execute_reply.started": "2024-02-13T13:43:05.676140Z"
    },
    "executionInfo": {
     "elapsed": 6,
     "status": "ok",
     "timestamp": 1636215157137,
     "user": {
      "displayName": "Mario Caesar",
      "photoUrl": "https://lh3.googleusercontent.com/a-/AOh14GheyOtCjw9bQyrYjdnb46Fp9pWuEIUHVSHLqwMBBw=s64",
      "userId": "15479329890797732984"
     },
     "user_tz": -420
    },
    "id": "-FCfZqBthMS9",
    "outputId": "7f8353a3-7ce7-42f0-8d35-1510ed7cf8e0"
   },
   "outputs": [
    {
     "data": {
      "text/plain": [
       "Male      489\n",
       "Female    112\n",
       "NaN        13\n",
       "Name: Gender, dtype: int64"
      ]
     },
     "execution_count": 51,
     "metadata": {},
     "output_type": "execute_result"
    }
   ],
   "source": [
    "df.Gender.value_counts(dropna=False)"
   ]
  },
  {
   "cell_type": "code",
   "execution_count": 52,
   "metadata": {
    "execution": {
     "iopub.execute_input": "2024-02-13T13:43:05.686797Z",
     "iopub.status.busy": "2024-02-13T13:43:05.685904Z",
     "iopub.status.idle": "2024-02-13T13:43:05.864580Z",
     "shell.execute_reply": "2024-02-13T13:43:05.863911Z",
     "shell.execute_reply.started": "2024-02-13T13:43:05.686747Z"
    },
    "executionInfo": {
     "elapsed": 512,
     "status": "ok",
     "timestamp": 1636215157644,
     "user": {
      "displayName": "Mario Caesar",
      "photoUrl": "https://lh3.googleusercontent.com/a-/AOh14GheyOtCjw9bQyrYjdnb46Fp9pWuEIUHVSHLqwMBBw=s64",
      "userId": "15479329890797732984"
     },
     "user_tz": -420
    },
    "id": "J4m9mVNniwED",
    "outputId": "d43ca689-e92c-499d-9324-e82ec41cd7b3"
   },
   "outputs": [
    {
     "data": {
      "image/png": "[encoded data removed]",
      "text/plain": [
       "<Figure size 432x288 with 1 Axes>"
      ]
     },
     "metadata": {},
     "output_type": "display_data"
    }
   ],
   "source": [
    "sns.countplot(x=\"Gender\", data=df, palette=\"hls\")\n",
    "plt.show()"
   ]
  },
  {
   "cell_type": "code",
   "execution_count": 53,
   "metadata": {
    "execution": {
     "iopub.execute_input": "2024-02-13T13:43:05.868177Z",
     "iopub.status.busy": "2024-02-13T13:43:05.867733Z",
     "iopub.status.idle": "2024-02-13T13:43:05.878753Z",
     "shell.execute_reply": "2024-02-13T13:43:05.877737Z",
     "shell.execute_reply.started": "2024-02-13T13:43:05.868113Z"
    },
    "executionInfo": {
     "elapsed": 7,
     "status": "ok",
     "timestamp": 1636215157645,
     "user": {
      "displayName": "Mario Caesar",
      "photoUrl": "https://lh3.googleusercontent.com/a-/AOh14GheyOtCjw9bQyrYjdnb46Fp9pWuEIUHVSHLqwMBBw=s64",
      "userId": "15479329890797732984"
     },
     "user_tz": -420
    },
    "id": "P7dngibeoNnH",
    "outputId": "2a3f125f-70a0-4271-fc2b-2c38edd6eb9c"
   },
   "outputs": [
    {
     "name": "stdout",
     "output_type": "stream",
     "text": [
      "Percentage of Male applicant: 79.64%\n",
      "Percentage of Female applicant: 18.24%\n",
      "Missing values percentage: 2.12%\n"
     ]
    }
   ],
   "source": [
    "countMale = len(df[df.Gender == 'Male'])\n",
    "countFemale = len(df[df.Gender == 'Female'])\n",
    "countNull = len(df[df.Gender.isnull()])\n",
    "\n",
    "print(\"Percentage of Male applicant: {:.2f}%\".format((countMale / (len(df.Gender))*100)))\n",
    "print(\"Percentage of Female applicant: {:.2f}%\".format((countFemale / (len(df.Gender))*100)))\n",
    "print(\"Missing values percentage: {:.2f}%\".format((countNull / (len(df.Gender))*100)))"
   ]
  },
  {
   "cell_type": "markdown",
   "metadata": {
    "id": "x-DNl5fMjDAu"
   },
   "source": [
    "👉 From the results above, the number of male applicants is higher compared to female applicants. It also can be seen there are missing values in this column."
   ]
  },
  {
   "cell_type": "markdown",
   "metadata": {
    "id": "b_Mkfxy6k2kS"
   },
   "source": [
    "### 4.1.3 Married"
   ]
  },
  {
   "cell_type": "code",
   "execution_count": 54,
   "metadata": {
    "execution": {
     "iopub.execute_input": "2024-02-13T13:43:05.881548Z",
     "iopub.status.busy": "2024-02-13T13:43:05.881148Z",
     "iopub.status.idle": "2024-02-13T13:43:05.894448Z",
     "shell.execute_reply": "2024-02-13T13:43:05.893249Z",
     "shell.execute_reply.started": "2024-02-13T13:43:05.881502Z"
    },
    "executionInfo": {
     "elapsed": 6,
     "status": "ok",
     "timestamp": 1636215157645,
     "user": {
      "displayName": "Mario Caesar",
      "photoUrl": "https://lh3.googleusercontent.com/a-/AOh14GheyOtCjw9bQyrYjdnb46Fp9pWuEIUHVSHLqwMBBw=s64",
      "userId": "15479329890797732984"
     },
     "user_tz": -420
    },
    "id": "GxBR8uJpk95l",
    "outputId": "609cccfb-9dc1-4c3c-9a80-7201b5aeebb4"
   },
   "outputs": [
    {
     "data": {
      "text/plain": [
       "Yes    398\n",
       "No     213\n",
       "NaN      3\n",
       "Name: Married, dtype: int64"
      ]
     },
     "execution_count": 54,
     "metadata": {},
     "output_type": "execute_result"
    }
   ],
   "source": [
    "df.Married.value_counts(dropna=False)"
   ]
  },
  {
   "cell_type": "code",
   "execution_count": 55,
   "metadata": {
    "execution": {
     "iopub.execute_input": "2024-02-13T13:43:05.896324Z",
     "iopub.status.busy": "2024-02-13T13:43:05.895891Z",
     "iopub.status.idle": "2024-02-13T13:43:06.094738Z",
     "shell.execute_reply": "2024-02-13T13:43:06.091852Z",
     "shell.execute_reply.started": "2024-02-13T13:43:05.896276Z"
    },
    "executionInfo": {
     "elapsed": 7,
     "status": "ok",
     "timestamp": 1636215157646,
     "user": {
      "displayName": "Mario Caesar",
      "photoUrl": "https://lh3.googleusercontent.com/a-/AOh14GheyOtCjw9bQyrYjdnb46Fp9pWuEIUHVSHLqwMBBw=s64",
      "userId": "15479329890797732984"
     },
     "user_tz": -420
    },
    "id": "7PSgGPJ-lNAI",
    "outputId": "62ed5fb3-fc6f-4a08-b300-929ab5ebdcd7"
   },
   "outputs": [
    {
     "data": {
      "image/png": "[encoded data removed]",
      "text/plain": [
       "<Figure size 432x288 with 1 Axes>"
      ]
     },
     "metadata": {},
     "output_type": "display_data"
    }
   ],
   "source": [
    "sns.countplot(x=\"Married\", data=df, palette=\"Paired\")\n",
    "plt.show()"
   ]
  },
  {
   "cell_type": "markdown",
   "metadata": {
    "id": "103tu8DvlV0V"
   },
   "source": [
    "👉 The number of applicants that has been married is higher compared to applicants that hasn't married. It also can be seen there are small number of missing values in this column."
   ]
  },
  {
   "cell_type": "code",
   "execution_count": 56,
   "metadata": {
    "execution": {
     "iopub.execute_input": "2024-02-13T13:43:06.097007Z",
     "iopub.status.busy": "2024-02-13T13:43:06.096733Z",
     "iopub.status.idle": "2024-02-13T13:43:06.108006Z",
     "shell.execute_reply": "2024-02-13T13:43:06.106989Z",
     "shell.execute_reply.started": "2024-02-13T13:43:06.096973Z"
    },
    "executionInfo": {
     "elapsed": 692,
     "status": "ok",
     "timestamp": 1636215158332,
     "user": {
      "displayName": "Mario Caesar",
      "photoUrl": "https://lh3.googleusercontent.com/a-/AOh14GheyOtCjw9bQyrYjdnb46Fp9pWuEIUHVSHLqwMBBw=s64",
      "userId": "15479329890797732984"
     },
     "user_tz": -420
    },
    "id": "Iy-ECFncpHOg",
    "outputId": "7693d123-3919-4081-a9c5-0aced95b3c09"
   },
   "outputs": [
    {
     "name": "stdout",
     "output_type": "stream",
     "text": [
      "Percentage of married: 64.82%\n",
      "Percentage of Not married applicant: 34.69%\n",
      "Missing values percentage: 0.49%\n"
     ]
    }
   ],
   "source": [
    "countMarried = len(df[df.Married == 'Yes'])\n",
    "countNotMarried = len(df[df.Married == 'No'])\n",
    "countNull = len(df[df.Married.isnull()])\n",
    "\n",
    "print(\"Percentage of married: {:.2f}%\".format((countMarried / (len(df.Married))*100)))\n",
    "print(\"Percentage of Not married applicant: {:.2f}%\".format((countNotMarried / (len(df.Married))*100)))\n",
    "print(\"Missing values percentage: {:.2f}%\".format((countNull / (len(df.Married))*100)))"
   ]
  },
  {
   "cell_type": "markdown",
   "metadata": {
    "id": "Ytz_I82Vl3Wu"
   },
   "source": [
    "### 4.1.4 Education"
   ]
  },
  {
   "cell_type": "code",
   "execution_count": 57,
   "metadata": {
    "execution": {
     "iopub.execute_input": "2024-02-13T13:43:06.109609Z",
     "iopub.status.busy": "2024-02-13T13:43:06.109322Z",
     "iopub.status.idle": "2024-02-13T13:43:06.121535Z",
     "shell.execute_reply": "2024-02-13T13:43:06.120557Z",
     "shell.execute_reply.started": "2024-02-13T13:43:06.109575Z"
    },
    "executionInfo": {
     "elapsed": 9,
     "status": "ok",
     "timestamp": 1636215158332,
     "user": {
      "displayName": "Mario Caesar",
      "photoUrl": "https://lh3.googleusercontent.com/a-/AOh14GheyOtCjw9bQyrYjdnb46Fp9pWuEIUHVSHLqwMBBw=s64",
      "userId": "15479329890797732984"
     },
     "user_tz": -420
    },
    "id": "Qqa3XmC5l3Wv",
    "outputId": "6b3abc7b-5620-4fb0-8390-017368413212"
   },
   "outputs": [
    {
     "data": {
      "text/plain": [
       "Graduate        480\n",
       "Not Graduate    134\n",
       "Name: Education, dtype: int64"
      ]
     },
     "execution_count": 57,
     "metadata": {},
     "output_type": "execute_result"
    }
   ],
   "source": [
    "df.Education.value_counts(dropna=False)"
   ]
  },
  {
   "cell_type": "code",
   "execution_count": 58,
   "metadata": {
    "execution": {
     "iopub.execute_input": "2024-02-13T13:43:06.123675Z",
     "iopub.status.busy": "2024-02-13T13:43:06.123147Z",
     "iopub.status.idle": "2024-02-13T13:43:06.304330Z",
     "shell.execute_reply": "2024-02-13T13:43:06.303701Z",
     "shell.execute_reply.started": "2024-02-13T13:43:06.123640Z"
    },
    "executionInfo": {
     "elapsed": 9,
     "status": "ok",
     "timestamp": 1636215158333,
     "user": {
      "displayName": "Mario Caesar",
      "photoUrl": "https://lh3.googleusercontent.com/a-/AOh14GheyOtCjw9bQyrYjdnb46Fp9pWuEIUHVSHLqwMBBw=s64",
      "userId": "15479329890797732984"
     },
     "user_tz": -420
    },
    "id": "rOSIyek7l3Wv",
    "outputId": "a8ecaac3-6c54-4858-cbfe-adb246c67a83"
   },
   "outputs": [
    {
     "data": {
      "image/png": "[encoded data removed]",
      "text/plain": [
       "<Figure size 432x288 with 1 Axes>"
      ]
     },
     "metadata": {},
     "output_type": "display_data"
    }
   ],
   "source": [
    "sns.countplot(x=\"Education\", data=df, palette=\"rocket\")\n",
    "plt.show()"
   ]
  },
  {
   "cell_type": "code",
   "execution_count": 59,
   "metadata": {
    "execution": {
     "iopub.execute_input": "2024-02-13T13:43:06.996267Z",
     "iopub.status.busy": "2024-02-13T13:43:06.995359Z",
     "iopub.status.idle": "2024-02-13T13:43:07.006735Z",
     "shell.execute_reply": "2024-02-13T13:43:07.005630Z",
     "shell.execute_reply.started": "2024-02-13T13:43:06.996220Z"
    },
    "executionInfo": {
     "elapsed": 9,
     "status": "ok",
     "timestamp": 1636215158333,
     "user": {
      "displayName": "Mario Caesar",
      "photoUrl": "https://lh3.googleusercontent.com/a-/AOh14GheyOtCjw9bQyrYjdnb46Fp9pWuEIUHVSHLqwMBBw=s64",
      "userId": "15479329890797732984"
     },
     "user_tz": -420
    },
    "id": "KswArAwgphLx",
    "outputId": "b17794ee-1de2-40da-8dc0-dd2da091be86"
   },
   "outputs": [
    {
     "name": "stdout",
     "output_type": "stream",
     "text": [
      "Percentage of graduate applicant: 78.18%\n",
      "Percentage of Not graduate applicant: 21.82%\n",
      "Missing values percentage: 0.00%\n"
     ]
    }
   ],
   "source": [
    "countGraduate = len(df[df.Education == 'Graduate'])\n",
    "countNotGraduate = len(df[df.Education == 'Not Graduate'])\n",
    "countNull = len(df[df.Education.isnull()])\n",
    "\n",
    "print(\"Percentage of graduate applicant: {:.2f}%\".format((countGraduate / (len(df.Education))*100)))\n",
    "print(\"Percentage of Not graduate applicant: {:.2f}%\".format((countNotGraduate / (len(df.Education))*100)))\n",
    "print(\"Missing values percentage: {:.2f}%\".format((countNull / (len(df.Education))*100)))"
   ]
  },
  {
   "cell_type": "markdown",
   "metadata": {
    "id": "wa2PIxQ_l3Ww"
   },
   "source": [
    "👉 The number of applicants that has been graduated is higher compared to applicants that hasn't graduated."
   ]
  },
  {
   "cell_type": "markdown",
   "metadata": {
    "id": "35SS19AbmYMQ"
   },
   "source": [
    "### 4.1.5 Self Employed"
   ]
  },
  {
   "cell_type": "code",
   "execution_count": 60,
   "metadata": {
    "execution": {
     "iopub.execute_input": "2024-02-13T13:43:07.009638Z",
     "iopub.status.busy": "2024-02-13T13:43:07.009284Z",
     "iopub.status.idle": "2024-02-13T13:43:07.021493Z",
     "shell.execute_reply": "2024-02-13T13:43:07.020540Z",
     "shell.execute_reply.started": "2024-02-13T13:43:07.009593Z"
    },
    "executionInfo": {
     "elapsed": 9,
     "status": "ok",
     "timestamp": 1636215158334,
     "user": {
      "displayName": "Mario Caesar",
      "photoUrl": "https://lh3.googleusercontent.com/a-/AOh14GheyOtCjw9bQyrYjdnb46Fp9pWuEIUHVSHLqwMBBw=s64",
      "userId": "15479329890797732984"
     },
     "user_tz": -420
    },
    "id": "_SkU0fcVmYMY",
    "outputId": "2eed44a8-0e10-4f3b-da41-542e4e19646a"
   },
   "outputs": [
    {
     "data": {
      "text/plain": [
       "No     500\n",
       "Yes     82\n",
       "NaN     32\n",
       "Name: Self_Employed, dtype: int64"
      ]
     },
     "execution_count": 60,
     "metadata": {},
     "output_type": "execute_result"
    }
   ],
   "source": [
    "df.Self_Employed.value_counts(dropna=False)"
   ]
  },
  {
   "cell_type": "code",
   "execution_count": 61,
   "metadata": {
    "execution": {
     "iopub.execute_input": "2024-02-13T13:43:07.023297Z",
     "iopub.status.busy": "2024-02-13T13:43:07.022744Z",
     "iopub.status.idle": "2024-02-13T13:43:07.469485Z",
     "shell.execute_reply": "2024-02-13T13:43:07.468860Z",
     "shell.execute_reply.started": "2024-02-13T13:43:07.023257Z"
    },
    "executionInfo": {
     "elapsed": 9,
     "status": "ok",
     "timestamp": 1636215158334,
     "user": {
      "displayName": "Mario Caesar",
      "photoUrl": "https://lh3.googleusercontent.com/a-/AOh14GheyOtCjw9bQyrYjdnb46Fp9pWuEIUHVSHLqwMBBw=s64",
      "userId": "15479329890797732984"
     },
     "user_tz": -420
    },
    "id": "BMr-wTlFmYMZ",
    "outputId": "4f382de4-2c7a-4c74-ef1b-cd3657762aff"
   },
   "outputs": [
    {
     "data": {
      "image/png": "[encoded data removed]",
      "text/plain": [
       "<Figure size 432x288 with 1 Axes>"
      ]
     },
     "metadata": {},
     "output_type": "display_data"
    }
   ],
   "source": [
    "sns.countplot(x=\"Self_Employed\", data=df, palette=\"crest\")\n",
    "plt.show()"
   ]
  },
  {
   "cell_type": "code",
   "execution_count": 62,
   "metadata": {
    "execution": {
     "iopub.execute_input": "2024-02-13T13:43:07.471255Z",
     "iopub.status.busy": "2024-02-13T13:43:07.470610Z",
     "iopub.status.idle": "2024-02-13T13:43:07.481582Z",
     "shell.execute_reply": "2024-02-13T13:43:07.480620Z",
     "shell.execute_reply.started": "2024-02-13T13:43:07.471211Z"
    },
    "executionInfo": {
     "elapsed": 8,
     "status": "ok",
     "timestamp": 1636215158334,
     "user": {
      "displayName": "Mario Caesar",
      "photoUrl": "https://lh3.googleusercontent.com/a-/AOh14GheyOtCjw9bQyrYjdnb46Fp9pWuEIUHVSHLqwMBBw=s64",
      "userId": "15479329890797732984"
     },
     "user_tz": -420
    },
    "id": "EaJS6E0Xp1AT",
    "outputId": "39f3ec08-aced-44ca-abbd-3bd50b818622"
   },
   "outputs": [
    {
     "name": "stdout",
     "output_type": "stream",
     "text": [
      "Percentage of Not self employed: 81.43%\n",
      "Percentage of self employed: 13.36%\n",
      "Missing values percentage: 5.21%\n"
     ]
    }
   ],
   "source": [
    "countNo = len(df[df.Self_Employed == 'No'])\n",
    "countYes = len(df[df.Self_Employed == 'Yes'])\n",
    "countNull = len(df[df.Self_Employed.isnull()])\n",
    "\n",
    "print(\"Percentage of Not self employed: {:.2f}%\".format((countNo / (len(df.Self_Employed))*100)))\n",
    "print(\"Percentage of self employed: {:.2f}%\".format((countYes / (len(df.Self_Employed))*100)))\n",
    "print(\"Missing values percentage: {:.2f}%\".format((countNull / (len(df.Self_Employed))*100)))"
   ]
  },
  {
   "cell_type": "markdown",
   "metadata": {
    "id": "riciPtC9mYMZ"
   },
   "source": [
    "### 👉 The number of applicants that are not self employed is higher compared to applicants that are self employed. It also can be seen, there are missing values in this column."
   ]
  },
  {
   "cell_type": "markdown",
   "metadata": {
    "id": "sn4zWF8-njF5"
   },
   "source": [
    "### 4.1.6 Credit History"
   ]
  },
  {
   "cell_type": "code",
   "execution_count": 63,
   "metadata": {
    "execution": {
     "iopub.execute_input": "2024-02-13T13:43:07.483776Z",
     "iopub.status.busy": "2024-02-13T13:43:07.483541Z",
     "iopub.status.idle": "2024-02-13T13:43:07.498783Z",
     "shell.execute_reply": "2024-02-13T13:43:07.497872Z",
     "shell.execute_reply.started": "2024-02-13T13:43:07.483748Z"
    },
    "executionInfo": {
     "elapsed": 9,
     "status": "ok",
     "timestamp": 1636215158335,
     "user": {
      "displayName": "Mario Caesar",
      "photoUrl": "https://lh3.googleusercontent.com/a-/AOh14GheyOtCjw9bQyrYjdnb46Fp9pWuEIUHVSHLqwMBBw=s64",
      "userId": "15479329890797732984"
     },
     "user_tz": -420
    },
    "id": "KtdDjo95njGA",
    "outputId": "1881d0af-d045-4e03-cde1-6c0aeeb93448"
   },
   "outputs": [
    {
     "data": {
      "text/plain": [
       "1.0    475\n",
       "0.0     89\n",
       "NaN     50\n",
       "Name: Credit_History, dtype: int64"
      ]
     },
     "execution_count": 63,
     "metadata": {},
     "output_type": "execute_result"
    }
   ],
   "source": [
    "df.Credit_History.value_counts(dropna=False)"
   ]
  },
  {
   "cell_type": "code",
   "execution_count": 64,
   "metadata": {
    "execution": {
     "iopub.execute_input": "2024-02-13T13:43:07.500510Z",
     "iopub.status.busy": "2024-02-13T13:43:07.500234Z",
     "iopub.status.idle": "2024-02-13T13:43:07.674155Z",
     "shell.execute_reply": "2024-02-13T13:43:07.673325Z",
     "shell.execute_reply.started": "2024-02-13T13:43:07.500470Z"
    },
    "executionInfo": {
     "elapsed": 606,
     "status": "ok",
     "timestamp": 1636215158932,
     "user": {
      "displayName": "Mario Caesar",
      "photoUrl": "https://lh3.googleusercontent.com/a-/AOh14GheyOtCjw9bQyrYjdnb46Fp9pWuEIUHVSHLqwMBBw=s64",
      "userId": "15479329890797732984"
     },
     "user_tz": -420
    },
    "id": "VmNGGD6onjGB",
    "outputId": "241c0aca-0c53-4611-9047-9ad67a8ab75d"
   },
   "outputs": [
    {
     "data": {
      "image/png": "[encoded data removed]",
      "text/plain": [
       "<Figure size 432x288 with 1 Axes>"
      ]
     },
     "metadata": {},
     "output_type": "display_data"
    }
   ],
   "source": [
    "sns.countplot(x=\"Credit_History\", data=df, palette=\"viridis\")\n",
    "plt.show()"
   ]
  },
  {
   "cell_type": "code",
   "execution_count": 65,
   "metadata": {
    "execution": {
     "iopub.execute_input": "2024-02-13T13:43:07.675827Z",
     "iopub.status.busy": "2024-02-13T13:43:07.675584Z",
     "iopub.status.idle": "2024-02-13T13:43:07.686308Z",
     "shell.execute_reply": "2024-02-13T13:43:07.685274Z",
     "shell.execute_reply.started": "2024-02-13T13:43:07.675797Z"
    },
    "executionInfo": {
     "elapsed": 11,
     "status": "ok",
     "timestamp": 1636215158933,
     "user": {
      "displayName": "Mario Caesar",
      "photoUrl": "https://lh3.googleusercontent.com/a-/AOh14GheyOtCjw9bQyrYjdnb46Fp9pWuEIUHVSHLqwMBBw=s64",
      "userId": "15479329890797732984"
     },
     "user_tz": -420
    },
    "id": "WdkcsU8vqK8Y",
    "outputId": "6b17cefa-27be-4815-d81c-5896cbfe1a74"
   },
   "outputs": [
    {
     "name": "stdout",
     "output_type": "stream",
     "text": [
      "Percentage of Good credit history: 77.36%\n",
      "Percentage of Bad credit history: 14.50%\n",
      "Missing values percentage: 8.14%\n"
     ]
    }
   ],
   "source": [
    "count1 = len(df[df.Credit_History == 1])\n",
    "count0 = len(df[df.Credit_History == 0])\n",
    "countNull = len(df[df.Credit_History.isnull()])\n",
    "\n",
    "print(\"Percentage of Good credit history: {:.2f}%\".format((count1 / (len(df.Credit_History))*100)))\n",
    "print(\"Percentage of Bad credit history: {:.2f}%\".format((count0 / (len(df.Credit_History))*100)))\n",
    "print(\"Missing values percentage: {:.2f}%\".format((countNull / (len(df.Credit_History))*100)))"
   ]
  },
  {
   "cell_type": "markdown",
   "metadata": {
    "id": "SqS_n8I7njGB"
   },
   "source": [
    "👉 The number of applicants that have good credit history is higher compared to applicants that have bad credit history. It also can be seen, there are missing values in this column."
   ]
  },
  {
   "cell_type": "markdown",
   "metadata": {
    "id": "vITK924Anjnn"
   },
   "source": [
    "### 4.1.7 Property Area"
   ]
  },
  {
   "cell_type": "code",
   "execution_count": 66,
   "metadata": {
    "execution": {
     "iopub.execute_input": "2024-02-13T13:43:08.212844Z",
     "iopub.status.busy": "2024-02-13T13:43:08.212517Z",
     "iopub.status.idle": "2024-02-13T13:43:08.221814Z",
     "shell.execute_reply": "2024-02-13T13:43:08.220598Z",
     "shell.execute_reply.started": "2024-02-13T13:43:08.212806Z"
    },
    "executionInfo": {
     "elapsed": 10,
     "status": "ok",
     "timestamp": 1636215158933,
     "user": {
      "displayName": "Mario Caesar",
      "photoUrl": "https://lh3.googleusercontent.com/a-/AOh14GheyOtCjw9bQyrYjdnb46Fp9pWuEIUHVSHLqwMBBw=s64",
      "userId": "15479329890797732984"
     },
     "user_tz": -420
    },
    "id": "i4o2LfJ2njnn",
    "outputId": "afce89f9-2ab6-439d-e2c8-43ca0e85cffc"
   },
   "outputs": [
    {
     "data": {
      "text/plain": [
       "Semiurban    233\n",
       "Urban        202\n",
       "Rural        179\n",
       "Name: Property_Area, dtype: int64"
      ]
     },
     "execution_count": 66,
     "metadata": {},
     "output_type": "execute_result"
    }
   ],
   "source": [
    "df.Property_Area.value_counts(dropna=False)"
   ]
  },
  {
   "cell_type": "code",
   "execution_count": 67,
   "metadata": {
    "execution": {
     "iopub.execute_input": "2024-02-13T13:43:08.224390Z",
     "iopub.status.busy": "2024-02-13T13:43:08.223900Z",
     "iopub.status.idle": "2024-02-13T13:43:08.416087Z",
     "shell.execute_reply": "2024-02-13T13:43:08.415006Z",
     "shell.execute_reply.started": "2024-02-13T13:43:08.224351Z"
    },
    "executionInfo": {
     "elapsed": 9,
     "status": "ok",
     "timestamp": 1636215158933,
     "user": {
      "displayName": "Mario Caesar",
      "photoUrl": "https://lh3.googleusercontent.com/a-/AOh14GheyOtCjw9bQyrYjdnb46Fp9pWuEIUHVSHLqwMBBw=s64",
      "userId": "15479329890797732984"
     },
     "user_tz": -420
    },
    "id": "29S5dnm6njnn",
    "outputId": "89ab805a-9bd5-4952-e383-21000da492fa"
   },
   "outputs": [
    {
     "data": {
      "image/png": "[encoded data removed]",
      "text/plain": [
       "<Figure size 432x288 with 1 Axes>"
      ]
     },
     "metadata": {},
     "output_type": "display_data"
    }
   ],
   "source": [
    "sns.countplot(x=\"Property_Area\", data=df, palette=\"cubehelix\")\n",
    "plt.show()"
   ]
  },
  {
   "cell_type": "code",
   "execution_count": 68,
   "metadata": {
    "execution": {
     "iopub.execute_input": "2024-02-13T13:43:08.417843Z",
     "iopub.status.busy": "2024-02-13T13:43:08.417590Z",
     "iopub.status.idle": "2024-02-13T13:43:08.431913Z",
     "shell.execute_reply": "2024-02-13T13:43:08.430897Z",
     "shell.execute_reply.started": "2024-02-13T13:43:08.417813Z"
    },
    "executionInfo": {
     "elapsed": 9,
     "status": "ok",
     "timestamp": 1636215158934,
     "user": {
      "displayName": "Mario Caesar",
      "photoUrl": "https://lh3.googleusercontent.com/a-/AOh14GheyOtCjw9bQyrYjdnb46Fp9pWuEIUHVSHLqwMBBw=s64",
      "userId": "15479329890797732984"
     },
     "user_tz": -420
    },
    "id": "XoksMSh9raU_",
    "outputId": "6344c5c7-c018-4d68-d5d2-f35de65edf29"
   },
   "outputs": [
    {
     "name": "stdout",
     "output_type": "stream",
     "text": [
      "Percentage of Urban: 32.90%\n",
      "Percentage of Rural: 29.15%\n",
      "Percentage of Semiurban: 37.95%\n",
      "Missing values percentage: 0.00%\n"
     ]
    }
   ],
   "source": [
    "countUrban = len(df[df.Property_Area == 'Urban'])\n",
    "countRural = len(df[df.Property_Area == 'Rural'])\n",
    "countSemiurban = len(df[df.Property_Area == 'Semiurban'])\n",
    "countNull = len(df[df.Property_Area.isnull()])\n",
    "\n",
    "print(\"Percentage of Urban: {:.2f}%\".format((countUrban / (len(df.Property_Area))*100)))\n",
    "print(\"Percentage of Rural: {:.2f}%\".format((countRural / (len(df.Property_Area))*100)))\n",
    "print(\"Percentage of Semiurban: {:.2f}%\".format((countSemiurban / (len(df.Property_Area))*100)))\n",
    "print(\"Missing values percentage: {:.2f}%\".format((countNull / (len(df.Property_Area))*100)))"
   ]
  },
  {
   "cell_type": "markdown",
   "metadata": {
    "id": "Uh6r7sCbnjnn"
   },
   "source": [
    "👉 This column has a balanced distribution between Urban, Rural, and Semiurban property area. It also can be seen there is no missing value."
   ]
  },
  {
   "cell_type": "markdown",
   "metadata": {
    "id": "sq3-SZScnkCQ"
   },
   "source": [
    "### 4.1.8 Loan Status"
   ]
  },
  {
   "cell_type": "code",
   "execution_count": 69,
   "metadata": {
    "execution": {
     "iopub.execute_input": "2024-02-13T13:43:08.795573Z",
     "iopub.status.busy": "2024-02-13T13:43:08.795252Z",
     "iopub.status.idle": "2024-02-13T13:43:08.803919Z",
     "shell.execute_reply": "2024-02-13T13:43:08.802897Z",
     "shell.execute_reply.started": "2024-02-13T13:43:08.795536Z"
    },
    "executionInfo": {
     "elapsed": 9,
     "status": "ok",
     "timestamp": 1636215158934,
     "user": {
      "displayName": "Mario Caesar",
      "photoUrl": "https://lh3.googleusercontent.com/a-/AOh14GheyOtCjw9bQyrYjdnb46Fp9pWuEIUHVSHLqwMBBw=s64",
      "userId": "15479329890797732984"
     },
     "user_tz": -420
    },
    "id": "wiumstnCnkCQ",
    "outputId": "87f387d9-fce8-4b8a-9c1b-105e97e5e9ce"
   },
   "outputs": [
    {
     "data": {
      "text/plain": [
       "Y    422\n",
       "N    192\n",
       "Name: Loan_Status, dtype: int64"
      ]
     },
     "execution_count": 69,
     "metadata": {},
     "output_type": "execute_result"
    }
   ],
   "source": [
    "df.Loan_Status.value_counts(dropna=False)"
   ]
  },
  {
   "cell_type": "code",
   "execution_count": 70,
   "metadata": {
    "execution": {
     "iopub.execute_input": "2024-02-13T13:43:08.806335Z",
     "iopub.status.busy": "2024-02-13T13:43:08.805647Z",
     "iopub.status.idle": "2024-02-13T13:43:08.996449Z",
     "shell.execute_reply": "2024-02-13T13:43:08.995808Z",
     "shell.execute_reply.started": "2024-02-13T13:43:08.806296Z"
    },
    "executionInfo": {
     "elapsed": 9,
     "status": "ok",
     "timestamp": 1636215158935,
     "user": {
      "displayName": "Mario Caesar",
      "photoUrl": "https://lh3.googleusercontent.com/a-/AOh14GheyOtCjw9bQyrYjdnb46Fp9pWuEIUHVSHLqwMBBw=s64",
      "userId": "15479329890797732984"
     },
     "user_tz": -420
    },
    "id": "uu0vT0SvnkCR",
    "outputId": "3d3ed03e-b55a-4984-b1db-1a3ff22693d0"
   },
   "outputs": [
    {
     "data": {
      "image/png": "[encoded data removed]",
      "text/plain": [
       "<Figure size 432x288 with 1 Axes>"
      ]
     },
     "metadata": {},
     "output_type": "display_data"
    }
   ],
   "source": [
    "sns.countplot(x=\"Loan_Status\", data=df, palette=\"YlOrBr\")\n",
    "plt.show()"
   ]
  },
  {
   "cell_type": "code",
   "execution_count": 71,
   "metadata": {
    "execution": {
     "iopub.execute_input": "2024-02-13T13:43:08.997960Z",
     "iopub.status.busy": "2024-02-13T13:43:08.997613Z",
     "iopub.status.idle": "2024-02-13T13:43:09.007919Z",
     "shell.execute_reply": "2024-02-13T13:43:09.006972Z",
     "shell.execute_reply.started": "2024-02-13T13:43:08.997930Z"
    },
    "executionInfo": {
     "elapsed": 9,
     "status": "ok",
     "timestamp": 1636215158935,
     "user": {
      "displayName": "Mario Caesar",
      "photoUrl": "https://lh3.googleusercontent.com/a-/AOh14GheyOtCjw9bQyrYjdnb46Fp9pWuEIUHVSHLqwMBBw=s64",
      "userId": "15479329890797732984"
     },
     "user_tz": -420
    },
    "id": "nicivzzRsqZe",
    "outputId": "3e6ffec2-03cd-428b-8c3b-463377ea4c84"
   },
   "outputs": [
    {
     "name": "stdout",
     "output_type": "stream",
     "text": [
      "Percentage of Approved: 68.73%\n",
      "Percentage of Rejected: 31.27%\n",
      "Missing values percentage: 0.00%\n"
     ]
    }
   ],
   "source": [
    "countY = len(df[df.Loan_Status == 'Y'])\n",
    "countN = len(df[df.Loan_Status == 'N'])\n",
    "countNull = len(df[df.Loan_Status.isnull()])\n",
    "\n",
    "print(\"Percentage of Approved: {:.2f}%\".format((countY / (len(df.Loan_Status))*100)))\n",
    "print(\"Percentage of Rejected: {:.2f}%\".format((countN / (len(df.Loan_Status))*100)))\n",
    "print(\"Missing values percentage: {:.2f}%\".format((countNull / (len(df.Loan_Status))*100)))"
   ]
  },
  {
   "cell_type": "markdown",
   "metadata": {
    "id": "Nj8btIZpnkCR"
   },
   "source": [
    "👉 The number of approved loans is higher compared to rejected loans . It also can be seen, there is no missing values in this column."
   ]
  },
  {
   "cell_type": "markdown",
   "metadata": {
    "id": "uOKvRa2gO_j9"
   },
   "source": [
    "### 4.1.9 Loan Amount Term"
   ]
  },
  {
   "cell_type": "code",
   "execution_count": 72,
   "metadata": {
    "execution": {
     "iopub.execute_input": "2024-02-13T13:43:09.011980Z",
     "iopub.status.busy": "2024-02-13T13:43:09.009886Z",
     "iopub.status.idle": "2024-02-13T13:43:09.025808Z",
     "shell.execute_reply": "2024-02-13T13:43:09.024605Z",
     "shell.execute_reply.started": "2024-02-13T13:43:09.011939Z"
    },
    "executionInfo": {
     "elapsed": 8,
     "status": "ok",
     "timestamp": 1636215158935,
     "user": {
      "displayName": "Mario Caesar",
      "photoUrl": "https://lh3.googleusercontent.com/a-/AOh14GheyOtCjw9bQyrYjdnb46Fp9pWuEIUHVSHLqwMBBw=s64",
      "userId": "15479329890797732984"
     },
     "user_tz": -420
    },
    "id": "suUA8cOXO_kB",
    "outputId": "12318782-a8c4-456f-d772-4fb39a748e61"
   },
   "outputs": [
    {
     "data": {
      "text/plain": [
       "360.0    512\n",
       "180.0     44\n",
       "480.0     15\n",
       "NaN       14\n",
       "300.0     13\n",
       "240.0      4\n",
       "84.0       4\n",
       "120.0      3\n",
       "60.0       2\n",
       "36.0       2\n",
       "12.0       1\n",
       "Name: Loan_Amount_Term, dtype: int64"
      ]
     },
     "execution_count": 72,
     "metadata": {},
     "output_type": "execute_result"
    }
   ],
   "source": [
    "df.Loan_Amount_Term.value_counts(dropna=False)"
   ]
  },
  {
   "cell_type": "code",
   "execution_count": 73,
   "metadata": {
    "execution": {
     "iopub.execute_input": "2024-02-13T13:43:09.028188Z",
     "iopub.status.busy": "2024-02-13T13:43:09.027692Z",
     "iopub.status.idle": "2024-02-13T13:43:09.289910Z",
     "shell.execute_reply": "2024-02-13T13:43:09.288935Z",
     "shell.execute_reply.started": "2024-02-13T13:43:09.028138Z"
    },
    "executionInfo": {
     "elapsed": 744,
     "status": "ok",
     "timestamp": 1636215159671,
     "user": {
      "displayName": "Mario Caesar",
      "photoUrl": "https://lh3.googleusercontent.com/a-/AOh14GheyOtCjw9bQyrYjdnb46Fp9pWuEIUHVSHLqwMBBw=s64",
      "userId": "15479329890797732984"
     },
     "user_tz": -420
    },
    "id": "19IBVpnZO_kC",
    "outputId": "3c50a271-b3fe-4c25-c73c-e189bef48966"
   },
   "outputs": [
    {
     "data": {
      "image/png": "[encoded data removed]",
      "text/plain": [
       "<Figure size 432x288 with 1 Axes>"
      ]
     },
     "metadata": {},
     "output_type": "display_data"
    }
   ],
   "source": [
    "sns.countplot(x=\"Loan_Amount_Term\", data=df, palette=\"rocket\")\n",
    "plt.show()"
   ]
  },
  {
   "cell_type": "code",
   "execution_count": 74,
   "metadata": {
    "execution": {
     "iopub.execute_input": "2024-02-13T13:43:09.291443Z",
     "iopub.status.busy": "2024-02-13T13:43:09.291183Z",
     "iopub.status.idle": "2024-02-13T13:43:09.314159Z",
     "shell.execute_reply": "2024-02-13T13:43:09.312589Z",
     "shell.execute_reply.started": "2024-02-13T13:43:09.291410Z"
    },
    "executionInfo": {
     "elapsed": 7,
     "status": "ok",
     "timestamp": 1636215159672,
     "user": {
      "displayName": "Mario Caesar",
      "photoUrl": "https://lh3.googleusercontent.com/a-/AOh14GheyOtCjw9bQyrYjdnb46Fp9pWuEIUHVSHLqwMBBw=s64",
      "userId": "15479329890797732984"
     },
     "user_tz": -420
    },
    "id": "4I7KGiUiO_kC",
    "outputId": "831b5372-2b68-40ae-8c9f-bade309f9b71"
   },
   "outputs": [
    {
     "name": "stdout",
     "output_type": "stream",
     "text": [
      "Percentage of 12: 0.16%\n",
      "Percentage of 36: 0.33%\n",
      "Percentage of 60: 0.33%\n",
      "Percentage of 84: 0.65%\n",
      "Percentage of 120: 0.49%\n",
      "Percentage of 180: 7.17%\n",
      "Percentage of 240: 0.65%\n",
      "Percentage of 300: 2.12%\n",
      "Percentage of 360: 83.39%\n",
      "Percentage of 480: 2.44%\n",
      "Missing values percentage: 2.28%\n"
     ]
    }
   ],
   "source": [
    "count12 = len(df[df.Loan_Amount_Term == 12.0])\n",
    "count36 = len(df[df.Loan_Amount_Term == 36.0])\n",
    "count60 = len(df[df.Loan_Amount_Term == 60.0])\n",
    "count84 = len(df[df.Loan_Amount_Term == 84.0])\n",
    "count120 = len(df[df.Loan_Amount_Term == 120.0])\n",
    "count180 = len(df[df.Loan_Amount_Term == 180.0])\n",
    "count240 = len(df[df.Loan_Amount_Term == 240.0])\n",
    "count300 = len(df[df.Loan_Amount_Term == 300.0])\n",
    "count360 = len(df[df.Loan_Amount_Term == 360.0])\n",
    "count480 = len(df[df.Loan_Amount_Term == 480.0])\n",
    "countNull = len(df[df.Loan_Amount_Term.isnull()])\n",
    "\n",
    "print(\"Percentage of 12: {:.2f}%\".format((count12 / (len(df.Loan_Amount_Term))*100)))\n",
    "print(\"Percentage of 36: {:.2f}%\".format((count36 / (len(df.Loan_Amount_Term))*100)))\n",
    "print(\"Percentage of 60: {:.2f}%\".format((count60 / (len(df.Loan_Amount_Term))*100)))\n",
    "print(\"Percentage of 84: {:.2f}%\".format((count84 / (len(df.Loan_Amount_Term))*100)))\n",
    "print(\"Percentage of 120: {:.2f}%\".format((count120 / (len(df.Loan_Amount_Term))*100)))\n",
    "print(\"Percentage of 180: {:.2f}%\".format((count180 / (len(df.Loan_Amount_Term))*100)))\n",
    "print(\"Percentage of 240: {:.2f}%\".format((count240 / (len(df.Loan_Amount_Term))*100)))\n",
    "print(\"Percentage of 300: {:.2f}%\".format((count300 / (len(df.Loan_Amount_Term))*100)))\n",
    "print(\"Percentage of 360: {:.2f}%\".format((count360 / (len(df.Loan_Amount_Term))*100)))\n",
    "print(\"Percentage of 480: {:.2f}%\".format((count480 / (len(df.Loan_Amount_Term))*100)))\n",
    "print(\"Missing values percentage: {:.2f}%\".format((countNull / (len(df.Loan_Amount_Term))*100)))"
   ]
  },
  {
   "cell_type": "markdown",
   "metadata": {
    "id": "SrCT3UlKO_kC"
   },
   "source": [
    "👉 As can be seen from the results, **the 360 days loan duration is the most popular** compared to others."
   ]
  },
  {
   "cell_type": "markdown",
   "metadata": {
    "id": "uE8t92lRtCXr"
   },
   "source": [
    "## 4.2 Numerical Variable 🔢\n",
    "👉 The second variable that I will explore is categorical variable."
   ]
  },
  {
   "cell_type": "markdown",
   "metadata": {
    "id": "OilcVn02ZLGC"
   },
   "source": [
    "### 4.2.1 Describe Numerical Variable 🔎\n",
    "👉 This section will show mean, count, std, min, max and others using describe function.\n"
   ]
  },
  {
   "cell_type": "code",
   "execution_count": 75,
   "metadata": {
    "execution": {
     "iopub.execute_input": "2024-02-13T13:43:09.316567Z",
     "iopub.status.busy": "2024-02-13T13:43:09.316214Z",
     "iopub.status.idle": "2024-02-13T13:43:09.344095Z",
     "shell.execute_reply": "2024-02-13T13:43:09.343176Z",
     "shell.execute_reply.started": "2024-02-13T13:43:09.316532Z"
    },
    "executionInfo": {
     "elapsed": 7,
     "status": "ok",
     "timestamp": 1636215159673,
     "user": {
      "displayName": "Mario Caesar",
      "photoUrl": "https://lh3.googleusercontent.com/a-/AOh14GheyOtCjw9bQyrYjdnb46Fp9pWuEIUHVSHLqwMBBw=s64",
      "userId": "15479329890797732984"
     },
     "user_tz": -420
    },
    "id": "JYmOMnqitb6s",
    "outputId": "98a0a42e-77d1-4a12-a92e-58cf5a317392"
   },
   "outputs": [
    {
     "data": {
      "text/html": [
       "<div>\n",
       "<style scoped>\n",
       "    .dataframe tbody tr th:only-of-type {\n",
       "        vertical-align: middle;\n",
       "    }\n",
       "\n",
       "    .dataframe tbody tr th {\n",
       "        vertical-align: top;\n",
       "    }\n",
       "\n",
       "    .dataframe thead th {\n",
       "        text-align: right;\n",
       "    }\n",
       "</style>\n",
       "<table border=\"1\" class=\"dataframe\">\n",
       "  <thead>\n",
       "    <tr style=\"text-align: right;\">\n",
       "      <th></th>\n",
       "      <th>ApplicantIncome</th>\n",
       "      <th>CoapplicantIncome</th>\n",
       "      <th>LoanAmount</th>\n",
       "    </tr>\n",
       "  </thead>\n",
       "  <tbody>\n",
       "    <tr>\n",
       "      <th>count</th>\n",
       "      <td>614.000000</td>\n",
       "      <td>614.000000</td>\n",
       "      <td>592.000000</td>\n",
       "    </tr>\n",
       "    <tr>\n",
       "      <th>mean</th>\n",
       "      <td>5403.459283</td>\n",
       "      <td>1621.245798</td>\n",
       "      <td>146.412162</td>\n",
       "    </tr>\n",
       "    <tr>\n",
       "      <th>std</th>\n",
       "      <td>6109.041673</td>\n",
       "      <td>2926.248369</td>\n",
       "      <td>85.587325</td>\n",
       "    </tr>\n",
       "    <tr>\n",
       "      <th>min</th>\n",
       "      <td>150.000000</td>\n",
       "      <td>0.000000</td>\n",
       "      <td>9.000000</td>\n",
       "    </tr>\n",
       "    <tr>\n",
       "      <th>25%</th>\n",
       "      <td>2877.500000</td>\n",
       "      <td>0.000000</td>\n",
       "      <td>100.000000</td>\n",
       "    </tr>\n",
       "    <tr>\n",
       "      <th>50%</th>\n",
       "      <td>3812.500000</td>\n",
       "      <td>1188.500000</td>\n",
       "      <td>128.000000</td>\n",
       "    </tr>\n",
       "    <tr>\n",
       "      <th>75%</th>\n",
       "      <td>5795.000000</td>\n",
       "      <td>2297.250000</td>\n",
       "      <td>168.000000</td>\n",
       "    </tr>\n",
       "    <tr>\n",
       "      <th>max</th>\n",
       "      <td>81000.000000</td>\n",
       "      <td>41667.000000</td>\n",
       "      <td>700.000000</td>\n",
       "    </tr>\n",
       "  </tbody>\n",
       "</table>\n",
       "</div>"
      ],
      "text/plain": [
       "       ApplicantIncome  CoapplicantIncome  LoanAmount\n",
       "count       614.000000         614.000000  592.000000\n",
       "mean       5403.459283        1621.245798  146.412162\n",
       "std        6109.041673        2926.248369   85.587325\n",
       "min         150.000000           0.000000    9.000000\n",
       "25%        2877.500000           0.000000  100.000000\n",
       "50%        3812.500000        1188.500000  128.000000\n",
       "75%        5795.000000        2297.250000  168.000000\n",
       "max       81000.000000       41667.000000  700.000000"
      ]
     },
     "execution_count": 75,
     "metadata": {},
     "output_type": "execute_result"
    }
   ],
   "source": [
    "df[['ApplicantIncome','CoapplicantIncome','LoanAmount']].describe()"
   ]
  },
  {
   "cell_type": "markdown",
   "metadata": {
    "id": "xVh_xjKZNFtZ"
   },
   "source": [
    "### 4.2.2 Distribution of Numerical Variable 📈\n",
    "👉 In this section, I will show the distribution of numerical variable using histogram and violin plot."
   ]
  },
  {
   "cell_type": "markdown",
   "metadata": {
    "id": "26oBuCCFRHdt"
   },
   "source": [
    "#### 4.2.2.1 Histogram Distribution 📉"
   ]
  },
  {
   "cell_type": "code",
   "execution_count": 76,
   "metadata": {
    "execution": {
     "iopub.execute_input": "2024-02-13T13:43:09.345770Z",
     "iopub.status.busy": "2024-02-13T13:43:09.345532Z",
     "iopub.status.idle": "2024-02-13T13:43:10.741318Z",
     "shell.execute_reply": "2024-02-13T13:43:10.740404Z",
     "shell.execute_reply.started": "2024-02-13T13:43:09.345741Z"
    },
    "executionInfo": {
     "elapsed": 2639,
     "status": "ok",
     "timestamp": 1636215162306,
     "user": {
      "displayName": "Mario Caesar",
      "photoUrl": "https://lh3.googleusercontent.com/a-/AOh14GheyOtCjw9bQyrYjdnb46Fp9pWuEIUHVSHLqwMBBw=s64",
      "userId": "15479329890797732984"
     },
     "user_tz": -420
    },
    "id": "nNQVNECjOV_R",
    "outputId": "ba7251ca-eb6a-4b94-bd03-8fbfd8d89a67"
   },
   "outputs": [
    {
     "data": {
      "image/png": "[encoded data removed]",
      "text/plain": [
       "<Figure size 720x576 with 4 Axes>"
      ]
     },
     "metadata": {},
     "output_type": "display_data"
    }
   ],
   "source": [
    "sns.set(style=\"darkgrid\")\n",
    "fig, axs = plt.subplots(2, 2, figsize=(10, 8))\n",
    "\n",
    "sns.histplot(data=df, x=\"ApplicantIncome\", kde=True, ax=axs[0, 0], color='green')\n",
    "sns.histplot(data=df, x=\"CoapplicantIncome\", kde=True, ax=axs[0, 1], color='skyblue')\n",
    "sns.histplot(data=df, x=\"LoanAmount\", kde=True, ax=axs[1, 0], color='orange');"
   ]
  },
  {
   "cell_type": "markdown",
   "metadata": {
    "id": "Wm-uWGyORLEh"
   },
   "source": [
    "#### 4.2.2.2 Violin Plot 🎻"
   ]
  },
  {
   "cell_type": "code",
   "execution_count": 77,
   "metadata": {
    "execution": {
     "iopub.execute_input": "2024-02-13T13:43:10.743393Z",
     "iopub.status.busy": "2024-02-13T13:43:10.743037Z",
     "iopub.status.idle": "2024-02-13T13:43:11.386649Z",
     "shell.execute_reply": "2024-02-13T13:43:11.385987Z",
     "shell.execute_reply.started": "2024-02-13T13:43:10.743346Z"
    },
    "executionInfo": {
     "elapsed": 1225,
     "status": "ok",
     "timestamp": 1636215163524,
     "user": {
      "displayName": "Mario Caesar",
      "photoUrl": "https://lh3.googleusercontent.com/a-/AOh14GheyOtCjw9bQyrYjdnb46Fp9pWuEIUHVSHLqwMBBw=s64",
      "userId": "15479329890797732984"
     },
     "user_tz": -420
    },
    "id": "bqcMEGfUQDTM",
    "outputId": "38c360e8-3eb2-4b27-d939-7f3aa256c951"
   },
   "outputs": [
    {
     "data": {
      "image/png": "[encoded data removed]",
      "text/plain": [
       "<Figure size 720x720 with 4 Axes>"
      ]
     },
     "metadata": {},
     "output_type": "display_data"
    }
   ],
   "source": [
    "sns.set(style=\"darkgrid\")\n",
    "fig, axs1 = plt.subplots(2, 2, figsize=(10, 10))\n",
    "\n",
    "sns.violinplot(data=df, y=\"ApplicantIncome\", ax=axs1[0, 0], color='green')\n",
    "sns.violinplot(data=df, y=\"CoapplicantIncome\", ax=axs1[0, 1], color='skyblue')\n",
    "sns.violinplot(data=df, y=\"LoanAmount\", ax=axs1[1, 0], color='orange');"
   ]
  },
  {
   "cell_type": "markdown",
   "metadata": {
    "id": "26VEP1r5SyM_"
   },
   "source": [
    "*   The distribution of **Applicant income, Co Applicant Income, and Loan Amount** are **positively skewed** and **it has outliers** (can be seen from both histogram and violin plot).\n",
    "*   The distribution of **Loan Amount Term** is **negativly skewed** and **it has outliers.**\n",
    "\n"
   ]
  },
  {
   "cell_type": "markdown",
   "metadata": {
    "id": "sBAeM4ZWXuOI"
   },
   "source": [
    "## 4.3 Other Exploration 💹\n",
    "👉 This section will show additional exploration from each variables. The additional exploration are:\n",
    "*   Bivariate analysis (categorical w/ categorical, categroical w/ numerical, and numerical w/ numerical)\n",
    "*   Heatmap\n",
    "\n"
   ]
  },
  {
   "cell_type": "markdown",
   "metadata": {
    "id": "GsaiF0JAYrTA"
   },
   "source": [
    "### 4.3.1 Heatmap 🔥"
   ]
  },
  {
   "cell_type": "code",
   "execution_count": 78,
   "metadata": {
    "execution": {
     "iopub.execute_input": "2024-02-13T13:43:11.389200Z",
     "iopub.status.busy": "2024-02-13T13:43:11.388362Z",
     "iopub.status.idle": "2024-02-13T13:43:11.826384Z",
     "shell.execute_reply": "2024-02-13T13:43:11.825500Z",
     "shell.execute_reply.started": "2024-02-13T13:43:11.389127Z"
    },
    "executionInfo": {
     "elapsed": 9,
     "status": "ok",
     "timestamp": 1636215163525,
     "user": {
      "displayName": "Mario Caesar",
      "photoUrl": "https://lh3.googleusercontent.com/a-/AOh14GheyOtCjw9bQyrYjdnb46Fp9pWuEIUHVSHLqwMBBw=s64",
      "userId": "15479329890797732984"
     },
     "user_tz": -420
    },
    "id": "eCrq4rn7XxTt",
    "outputId": "89a0596e-bad6-4c32-9caa-6d9d10d838a6"
   },
   "outputs": [
    {
     "data": {
      "image/png": "[encoded data removed]",
      "text/plain": [
       "<Figure size 720x504 with 2 Axes>"
      ]
     },
     "metadata": {},
     "output_type": "display_data"
    }
   ],
   "source": [
    "plt.figure(figsize=(10,7))\n",
    "sns.heatmap(df.corr(), annot=True, cmap='inferno');"
   ]
  },
  {
   "cell_type": "markdown",
   "metadata": {
    "id": "BcZG6vDpfchM"
   },
   "source": [
    "👉 There is positive correlation between Loan Amount and Applicant Income"
   ]
  },
  {
   "cell_type": "markdown",
   "metadata": {
    "id": "IOm0V24oYyQb"
   },
   "source": [
    "### 4.3.2 Categorical 📊 - Categorical 📊"
   ]
  },
  {
   "cell_type": "code",
   "execution_count": 79,
   "metadata": {
    "execution": {
     "iopub.execute_input": "2024-02-13T13:43:11.828567Z",
     "iopub.status.busy": "2024-02-13T13:43:11.828257Z",
     "iopub.status.idle": "2024-02-13T13:43:12.067298Z",
     "shell.execute_reply": "2024-02-13T13:43:12.066226Z",
     "shell.execute_reply.started": "2024-02-13T13:43:11.828527Z"
    },
    "executionInfo": {
     "elapsed": 1066,
     "status": "ok",
     "timestamp": 1636215164586,
     "user": {
      "displayName": "Mario Caesar",
      "photoUrl": "https://lh3.googleusercontent.com/a-/AOh14GheyOtCjw9bQyrYjdnb46Fp9pWuEIUHVSHLqwMBBw=s64",
      "userId": "15479329890797732984"
     },
     "user_tz": -420
    },
    "id": "sO2zNOYmYxkt",
    "outputId": "54fc65c5-b890-488e-d471-72c986d1109d"
   },
   "outputs": [
    {
     "data": {
      "image/png": "[encoded data removed]",
      "text/plain": [
       "<Figure size 360x360 with 1 Axes>"
      ]
     },
     "metadata": {},
     "output_type": "display_data"
    }
   ],
   "source": [
    "pd.crosstab(df.Gender,df.Married).plot(kind=\"bar\", stacked=True, figsize=(5,5), color=['#f64f59','#12c2e9'])\n",
    "plt.title('Gender vs Married')\n",
    "plt.xlabel('Gender')\n",
    "plt.ylabel('Frequency')\n",
    "plt.xticks(rotation=0)\n",
    "plt.show()"
   ]
  },
  {
   "cell_type": "markdown",
   "metadata": {
    "id": "H2ic-PSOfxJq"
   },
   "source": [
    "👉 Most male applicants are already married compared to female applicants. Also, the number of not married male applicants are higher compare to female applicants that had not married."
   ]
  },
  {
   "cell_type": "code",
   "execution_count": 80,
   "metadata": {
    "execution": {
     "iopub.execute_input": "2024-02-13T13:43:12.069106Z",
     "iopub.status.busy": "2024-02-13T13:43:12.068871Z",
     "iopub.status.idle": "2024-02-13T13:43:12.304965Z",
     "shell.execute_reply": "2024-02-13T13:43:12.304022Z",
     "shell.execute_reply.started": "2024-02-13T13:43:12.069076Z"
    },
    "executionInfo": {
     "elapsed": 10,
     "status": "ok",
     "timestamp": 1636215164586,
     "user": {
      "displayName": "Mario Caesar",
      "photoUrl": "https://lh3.googleusercontent.com/a-/AOh14GheyOtCjw9bQyrYjdnb46Fp9pWuEIUHVSHLqwMBBw=s64",
      "userId": "15479329890797732984"
     },
     "user_tz": -420
    },
    "id": "Qkge_XadbuLA",
    "outputId": "90ab5cd5-3a90-48e8-b200-465ad802c86b"
   },
   "outputs": [
    {
     "data": {
      "image/png": "[encoded data removed]",
      "text/plain": [
       "<Figure size 360x360 with 1 Axes>"
      ]
     },
     "metadata": {},
     "output_type": "display_data"
    }
   ],
   "source": [
    "pd.crosstab(df.Self_Employed,df.Credit_History).plot(kind=\"bar\", stacked=True, figsize=(5,5), color=['#544a7d','#ffd452'])\n",
    "plt.title('Self Employed vs Credit History')\n",
    "plt.xlabel('Self Employed')\n",
    "plt.ylabel('Frequency')\n",
    "plt.legend([\"Bad Credit\", \"Good Credit\"])\n",
    "plt.xticks(rotation=0)\n",
    "plt.show()"
   ]
  },
  {
   "cell_type": "markdown",
   "metadata": {
    "id": "Ab_vh1DWgFS3"
   },
   "source": [
    "👉 Most not self employed applicants have good credit compared to self employed applicants."
   ]
  },
  {
   "cell_type": "code",
   "execution_count": 81,
   "metadata": {
    "execution": {
     "iopub.execute_input": "2024-02-13T13:43:12.306686Z",
     "iopub.status.busy": "2024-02-13T13:43:12.306454Z",
     "iopub.status.idle": "2024-02-13T13:43:12.548047Z",
     "shell.execute_reply": "2024-02-13T13:43:12.547116Z",
     "shell.execute_reply.started": "2024-02-13T13:43:12.306658Z"
    },
    "executionInfo": {
     "elapsed": 10,
     "status": "ok",
     "timestamp": 1636215164587,
     "user": {
      "displayName": "Mario Caesar",
      "photoUrl": "https://lh3.googleusercontent.com/a-/AOh14GheyOtCjw9bQyrYjdnb46Fp9pWuEIUHVSHLqwMBBw=s64",
      "userId": "15479329890797732984"
     },
     "user_tz": -420
    },
    "id": "p1ztJv3wcyRA",
    "outputId": "de51e6c0-fa1a-441b-aefc-b7f9d3a49ea4"
   },
   "outputs": [
    {
     "data": {
      "image/png": "[encoded data removed]",
      "text/plain": [
       "<Figure size 360x360 with 1 Axes>"
      ]
     },
     "metadata": {},
     "output_type": "display_data"
    }
   ],
   "source": [
    "pd.crosstab(df.Property_Area,df.Loan_Status).plot(kind=\"bar\", stacked=True, figsize=(5,5), color=['#333333','#dd1818'])\n",
    "plt.title('Property Area vs Loan Status')\n",
    "plt.xlabel('Property Area')\n",
    "plt.ylabel('Frequency')\n",
    "plt.xticks(rotation=0)\n",
    "plt.show()"
   ]
  },
  {
   "cell_type": "markdown",
   "metadata": {
    "id": "yj4e2UvjgWsm"
   },
   "source": [
    "👉 Most of loan that got accepted has property in Semiurban compared to Urban and Rural."
   ]
  },
  {
   "cell_type": "markdown",
   "metadata": {
    "id": "GkPfU3KQdJvH"
   },
   "source": [
    "### 4.3.3 Categorical 📊- Numerical 📈"
   ]
  },
  {
   "cell_type": "code",
   "execution_count": 82,
   "metadata": {
    "execution": {
     "iopub.execute_input": "2024-02-13T13:43:12.550124Z",
     "iopub.status.busy": "2024-02-13T13:43:12.549323Z",
     "iopub.status.idle": "2024-02-13T13:43:12.796949Z",
     "shell.execute_reply": "2024-02-13T13:43:12.795921Z",
     "shell.execute_reply.started": "2024-02-13T13:43:12.550086Z"
    },
    "executionInfo": {
     "elapsed": 9,
     "status": "ok",
     "timestamp": 1636215164587,
     "user": {
      "displayName": "Mario Caesar",
      "photoUrl": "https://lh3.googleusercontent.com/a-/AOh14GheyOtCjw9bQyrYjdnb46Fp9pWuEIUHVSHLqwMBBw=s64",
      "userId": "15479329890797732984"
     },
     "user_tz": -420
    },
    "id": "8KXyIhTWdNoP",
    "outputId": "bd86772f-6998-4945-9f6e-840becad037d"
   },
   "outputs": [
    {
     "data": {
      "image/png": "[encoded data removed]",
      "text/plain": [
       "<Figure size 432x288 with 1 Axes>"
      ]
     },
     "metadata": {},
     "output_type": "display_data"
    }
   ],
   "source": [
    "sns.boxplot(x=\"Loan_Status\", y=\"ApplicantIncome\", data=df, palette=\"mako\");"
   ]
  },
  {
   "cell_type": "markdown",
   "metadata": {
    "id": "sK5NrWpdiIbg"
   },
   "source": [
    "👉 It can be seen that there are lots of outliers in Applicant Income, and the distribution also positively skewed"
   ]
  },
  {
   "cell_type": "code",
   "execution_count": 83,
   "metadata": {
    "execution": {
     "iopub.execute_input": "2024-02-13T13:43:12.798960Z",
     "iopub.status.busy": "2024-02-13T13:43:12.798205Z",
     "iopub.status.idle": "2024-02-13T13:43:13.048590Z",
     "shell.execute_reply": "2024-02-13T13:43:13.047886Z",
     "shell.execute_reply.started": "2024-02-13T13:43:12.798911Z"
    },
    "executionInfo": {
     "elapsed": 8,
     "status": "ok",
     "timestamp": 1636215164587,
     "user": {
      "displayName": "Mario Caesar",
      "photoUrl": "https://lh3.googleusercontent.com/a-/AOh14GheyOtCjw9bQyrYjdnb46Fp9pWuEIUHVSHLqwMBBw=s64",
      "userId": "15479329890797732984"
     },
     "user_tz": -420
    },
    "id": "UQgw9pSSdNgK",
    "outputId": "1b8f1689-5929-4d51-d774-8ebc72803330"
   },
   "outputs": [
    {
     "data": {
      "image/png": "[encoded data removed]",
      "text/plain": [
       "<Figure size 432x288 with 1 Axes>"
      ]
     },
     "metadata": {},
     "output_type": "display_data"
    }
   ],
   "source": [
    "sns.boxplot(x=\"CoapplicantIncome\", y=\"Loan_Status\", data=df, palette=\"rocket\");"
   ]
  },
  {
   "cell_type": "markdown",
   "metadata": {
    "id": "Y7DFLTqpibiJ"
   },
   "source": [
    "👉 It's clear that Co Applicant Income has a number of outliers, and the distribution is also positively skewed."
   ]
  },
  {
   "cell_type": "code",
   "execution_count": 84,
   "metadata": {
    "execution": {
     "iopub.execute_input": "2024-02-13T13:43:13.050385Z",
     "iopub.status.busy": "2024-02-13T13:43:13.049831Z",
     "iopub.status.idle": "2024-02-13T13:43:13.281706Z",
     "shell.execute_reply": "2024-02-13T13:43:13.280724Z",
     "shell.execute_reply.started": "2024-02-13T13:43:13.050347Z"
    },
    "executionInfo": {
     "elapsed": 801,
     "status": "ok",
     "timestamp": 1636215165381,
     "user": {
      "displayName": "Mario Caesar",
      "photoUrl": "https://lh3.googleusercontent.com/a-/AOh14GheyOtCjw9bQyrYjdnb46Fp9pWuEIUHVSHLqwMBBw=s64",
      "userId": "15479329890797732984"
     },
     "user_tz": -420
    },
    "id": "341fyImTdNO9",
    "outputId": "e2f5ee90-ebc8-446d-8d75-d8de51872e3b"
   },
   "outputs": [
    {
     "data": {
      "image/png": "[encoded data removed]",
      "text/plain": [
       "<Figure size 432x288 with 1 Axes>"
      ]
     },
     "metadata": {},
     "output_type": "display_data"
    }
   ],
   "source": [
    "sns.boxplot(x=\"Loan_Status\", y=\"LoanAmount\", data=df, palette=\"YlOrBr\");"
   ]
  },
  {
   "cell_type": "markdown",
   "metadata": {
    "id": "35BpJYOJio5M"
   },
   "source": [
    "👉 As can be seen, Co Applicant Income has a high number of outliers, and the distribution is also positively skewed."
   ]
  },
  {
   "cell_type": "markdown",
   "metadata": {
    "id": "qwYT4WuSi1BA"
   },
   "source": [
    "### 4.3.4 Numerical 📈 - Numerical 📈"
   ]
  },
  {
   "cell_type": "code",
   "execution_count": 85,
   "metadata": {
    "execution": {
     "iopub.execute_input": "2024-02-13T13:43:13.285457Z",
     "iopub.status.busy": "2024-02-13T13:43:13.284769Z",
     "iopub.status.idle": "2024-02-13T13:43:13.855979Z",
     "shell.execute_reply": "2024-02-13T13:43:13.854988Z",
     "shell.execute_reply.started": "2024-02-13T13:43:13.285415Z"
    },
    "executionInfo": {
     "elapsed": 10,
     "status": "ok",
     "timestamp": 1636215165382,
     "user": {
      "displayName": "Mario Caesar",
      "photoUrl": "https://lh3.googleusercontent.com/a-/AOh14GheyOtCjw9bQyrYjdnb46Fp9pWuEIUHVSHLqwMBBw=s64",
      "userId": "15479329890797732984"
     },
     "user_tz": -420
    },
    "id": "xEWeAA3Fi3XJ",
    "outputId": "5df5dfce-7ac0-4df4-f570-f580025ef1fa"
   },
   "outputs": [
    {
     "data": {
      "image/png": "[encoded data removed]",
      "text/plain": [
       "<Figure size 432x288 with 1 Axes>"
      ]
     },
     "metadata": {},
     "output_type": "display_data"
    },
    {
     "name": "stdout",
     "output_type": "stream",
     "text": [
      "Pearson correlation: -0.11660458122889966\n",
      "T Test and P value: \n",
      " Ttest_indResult(statistic=13.835753259915661, pvalue=1.4609839484240346e-40)\n"
     ]
    }
   ],
   "source": [
    "df.plot(x='ApplicantIncome', y='CoapplicantIncome', style='o')  \n",
    "plt.title('Applicant Income - Co Applicant Income')  \n",
    "plt.xlabel('ApplicantIncome')\n",
    "plt.ylabel('CoapplicantIncome')  \n",
    "plt.show()\n",
    "print('Pearson correlation:', df['ApplicantIncome'].corr(df['CoapplicantIncome']))\n",
    "print('T Test and P value: \\n', stats.ttest_ind(df['ApplicantIncome'], df['CoapplicantIncome']))"
   ]
  },
  {
   "cell_type": "markdown",
   "metadata": {
    "id": "9W0f-Mi5q_WA"
   },
   "source": [
    "*   There is **negative correlation** between Applicant income and Co Applicant Income.\n",
    "*   The correlation coefficient is **significant** at the 95 per cent confidence interval, as it has a **p-value of 1.46**\n"
   ]
  },
  {
   "cell_type": "markdown",
   "metadata": {
    "id": "Jq0D9_A1VSV9"
   },
   "source": [
    "## 4.4 Null Values 🚫"
   ]
  },
  {
   "cell_type": "code",
   "execution_count": 86,
   "metadata": {
    "execution": {
     "iopub.execute_input": "2024-02-13T13:43:13.857643Z",
     "iopub.status.busy": "2024-02-13T13:43:13.857328Z",
     "iopub.status.idle": "2024-02-13T13:43:13.867218Z",
     "shell.execute_reply": "2024-02-13T13:43:13.866248Z",
     "shell.execute_reply.started": "2024-02-13T13:43:13.857599Z"
    },
    "executionInfo": {
     "elapsed": 9,
     "status": "ok",
     "timestamp": 1636215165382,
     "user": {
      "displayName": "Mario Caesar",
      "photoUrl": "https://lh3.googleusercontent.com/a-/AOh14GheyOtCjw9bQyrYjdnb46Fp9pWuEIUHVSHLqwMBBw=s64",
      "userId": "15479329890797732984"
     },
     "user_tz": -420
    },
    "id": "Buorzh0-VVPS",
    "outputId": "6592eeef-9c3c-4d11-f84c-30b18d4f25a2"
   },
   "outputs": [
    {
     "data": {
      "text/plain": [
       "Loan_ID               0\n",
       "Gender               13\n",
       "Married               3\n",
       "Dependents           15\n",
       "Education             0\n",
       "Self_Employed        32\n",
       "ApplicantIncome       0\n",
       "CoapplicantIncome     0\n",
       "LoanAmount           22\n",
       "Loan_Amount_Term     14\n",
       "Credit_History       50\n",
       "Property_Area         0\n",
       "Loan_Status           0\n",
       "dtype: int64"
      ]
     },
     "execution_count": 86,
     "metadata": {},
     "output_type": "execute_result"
    }
   ],
   "source": [
    "df.isnull().sum()"
   ]
  },
  {
   "cell_type": "code",
   "execution_count": 87,
   "metadata": {
    "execution": {
     "iopub.execute_input": "2024-02-13T13:43:13.868616Z",
     "iopub.status.busy": "2024-02-13T13:43:13.868385Z",
     "iopub.status.idle": "2024-02-13T13:43:14.936933Z",
     "shell.execute_reply": "2024-02-13T13:43:14.935925Z",
     "shell.execute_reply.started": "2024-02-13T13:43:13.868589Z"
    },
    "executionInfo": {
     "elapsed": 680,
     "status": "ok",
     "timestamp": 1636215166055,
     "user": {
      "displayName": "Mario Caesar",
      "photoUrl": "https://lh3.googleusercontent.com/a-/AOh14GheyOtCjw9bQyrYjdnb46Fp9pWuEIUHVSHLqwMBBw=s64",
      "userId": "15479329890797732984"
     },
     "user_tz": -420
    },
    "id": "MSESe0JvVZ67",
    "outputId": "87a1f38f-1c71-4869-fd76-d389e5cc80be"
   },
   "outputs": [
    {
     "data": {
      "image/png": "[encoded data removed]",
      "text/plain": [
       "<Figure size 1728x360 with 3 Axes>"
      ]
     },
     "metadata": {},
     "output_type": "display_data"
    }
   ],
   "source": [
    "plt.figure(figsize = (24, 5))\n",
    "axz = plt.subplot(1,2,2)\n",
    "mso.bar(df, ax = axz, fontsize = 12);"
   ]
  },
  {
   "cell_type": "markdown",
   "metadata": {
    "id": "b6LoQvhRVUup"
   },
   "source": [
    "👉 Previously, the null values has been explored for Categorical Variables. In this section, the null values has been explored **for all variables** in the dataset."
   ]
  },
  {
   "cell_type": "markdown",
   "metadata": {
    "id": "i0K8wc4UVyX2"
   },
   "source": [
    "# 5. Data Preprocessing ⚙"
   ]
  },
  {
   "cell_type": "markdown",
   "metadata": {
    "id": "_JhvC2qZW4ke"
   },
   "source": [
    "## 5.1 Drop Unecessary Variables 🔻\n",
    "👉 Unecessary variables will be dropped in this section."
   ]
  },
  {
   "cell_type": "code",
   "execution_count": 88,
   "metadata": {
    "execution": {
     "iopub.execute_input": "2024-02-13T13:43:14.939938Z",
     "iopub.status.busy": "2024-02-13T13:43:14.938718Z",
     "iopub.status.idle": "2024-02-13T13:43:14.946757Z",
     "shell.execute_reply": "2024-02-13T13:43:14.945712Z",
     "shell.execute_reply.started": "2024-02-13T13:43:14.939878Z"
    },
    "id": "w255orBlXxSC"
   },
   "outputs": [],
   "source": [
    "df = df.drop(['Loan_ID'], axis = 1)"
   ]
  },
  {
   "cell_type": "markdown",
   "metadata": {
    "id": "E9RXvNsoV16b"
   },
   "source": [
    "## 5.2 Data Imputation 📝\n",
    "👉 Imputation is a technique for substituting an estimated value for missing values in a dataset. In this section, the imputation will be performed for variables that have missing values."
   ]
  },
  {
   "cell_type": "markdown",
   "metadata": {
    "id": "uziNPF4eGlyJ"
   },
   "source": [
    "### 5.2.1 Categorical Variables 📊\n",
    "👉 In this section, the imputation for categorical variables will be performed using **mode**."
   ]
  },
  {
   "cell_type": "code",
   "execution_count": 89,
   "metadata": {
    "execution": {
     "iopub.execute_input": "2024-02-13T13:43:14.949955Z",
     "iopub.status.busy": "2024-02-13T13:43:14.948739Z",
     "iopub.status.idle": "2024-02-13T13:43:14.964555Z",
     "shell.execute_reply": "2024-02-13T13:43:14.963441Z",
     "shell.execute_reply.started": "2024-02-13T13:43:14.949897Z"
    },
    "id": "1Dna_U33V09a"
   },
   "outputs": [],
   "source": [
    "df['Gender'].fillna(df['Gender'].mode()[0],inplace=True)\n",
    "df['Married'].fillna(df['Married'].mode()[0],inplace=True)\n",
    "df['Dependents'].fillna(df['Dependents'].mode()[0],inplace=True)\n",
    "df['Self_Employed'].fillna(df['Self_Employed'].mode()[0],inplace=True)\n",
    "df['Credit_History'].fillna(df['Credit_History'].mode()[0],inplace=True)\n",
    "df['Loan_Amount_Term'].fillna(df['Loan_Amount_Term'].mode()[0],inplace=True)"
   ]
  },
  {
   "cell_type": "markdown",
   "metadata": {
    "id": "7s3L4BM0Gvpr"
   },
   "source": [
    "### 5.2.2 Numerical Variables 📈\n",
    "👉 The next section is imputation for numerical variables using **mean**."
   ]
  },
  {
   "cell_type": "code",
   "execution_count": 90,
   "metadata": {
    "execution": {
     "iopub.execute_input": "2024-02-13T13:43:14.966746Z",
     "iopub.status.busy": "2024-02-13T13:43:14.966449Z",
     "iopub.status.idle": "2024-02-13T13:43:14.975244Z",
     "shell.execute_reply": "2024-02-13T13:43:14.974396Z",
     "shell.execute_reply.started": "2024-02-13T13:43:14.966712Z"
    },
    "id": "OayJ893bG665"
   },
   "outputs": [],
   "source": [
    "df['LoanAmount'].fillna(df['LoanAmount'].mean(),inplace=True)"
   ]
  },
  {
   "cell_type": "markdown",
   "metadata": {
    "id": "svjroAn8KInZ"
   },
   "source": [
    "## 5.3 One-hot Encoding 🔧\n",
    "👉 In this section, I will **transform categorical variables into a form that could be provided by ML algorithms to do a better prediction.**"
   ]
  },
  {
   "cell_type": "code",
   "execution_count": 91,
   "metadata": {
    "execution": {
     "iopub.execute_input": "2024-02-13T13:43:14.976685Z",
     "iopub.status.busy": "2024-02-13T13:43:14.976434Z",
     "iopub.status.idle": "2024-02-13T13:43:14.997226Z",
     "shell.execute_reply": "2024-02-13T13:43:14.996349Z",
     "shell.execute_reply.started": "2024-02-13T13:43:14.976649Z"
    },
    "id": "JPrZD3MHLBJO"
   },
   "outputs": [],
   "source": [
    "df = pd.get_dummies(df)\n",
    "\n",
    "# Drop columns\n",
    "df = df.drop(['Gender_Female', 'Married_No', 'Education_Not Graduate', \n",
    "              'Self_Employed_No', 'Loan_Status_N'], axis = 1)\n",
    "\n",
    "# Rename columns name\n",
    "new = {'Gender_Male': 'Gender', 'Married_Yes': 'Married', \n",
    "       'Education_Graduate': 'Education', 'Self_Employed_Yes': 'Self_Employed',\n",
    "       'Loan_Status_Y': 'Loan_Status'}\n",
    "       \n",
    "df.rename(columns=new, inplace=True)"
   ]
  },
  {
   "cell_type": "markdown",
   "metadata": {
    "id": "4xekDiffkIIb"
   },
   "source": [
    "## 5.3 Remove Outliers & Infinite values 🚮\n",
    "👉 Since there are outliers, **the outliers will be removed**. <br>\n"
   ]
  },
  {
   "cell_type": "code",
   "execution_count": 92,
   "metadata": {
    "execution": {
     "iopub.execute_input": "2024-02-13T13:43:14.998727Z",
     "iopub.status.busy": "2024-02-13T13:43:14.998504Z",
     "iopub.status.idle": "2024-02-13T13:43:15.011566Z",
     "shell.execute_reply": "2024-02-13T13:43:15.010739Z",
     "shell.execute_reply.started": "2024-02-13T13:43:14.998699Z"
    },
    "id": "7xXzLUK4kHsf"
   },
   "outputs": [],
   "source": [
    "Q1 = df.quantile(0.25)\n",
    "Q3 = df.quantile(0.75)\n",
    "IQR = Q3 - Q1\n",
    "\n",
    "df = df[~((df < (Q1 - 1.5 * IQR)) |(df > (Q3 + 1.5 * IQR))).any(axis=1)]"
   ]
  },
  {
   "cell_type": "markdown",
   "metadata": {
    "id": "r7hJ7w6dMlZk"
   },
   "source": [
    "## 5.4 Skewed Distribution Treatment 📐\n",
    "👉 In previous section, it already shown that **distribution for ApplicantIncome, CoapplicantIncome, and LoanAmount is positively skewed**. <br>\n",
    "👉 I will use **square root transformation** to normalized the distribution."
   ]
  },
  {
   "cell_type": "code",
   "execution_count": 93,
   "metadata": {
    "execution": {
     "iopub.execute_input": "2024-02-13T13:43:15.013766Z",
     "iopub.status.busy": "2024-02-13T13:43:15.013087Z",
     "iopub.status.idle": "2024-02-13T13:43:15.020381Z",
     "shell.execute_reply": "2024-02-13T13:43:15.019460Z",
     "shell.execute_reply.started": "2024-02-13T13:43:15.013732Z"
    },
    "executionInfo": {
     "elapsed": 9,
     "status": "ok",
     "timestamp": 1636215166057,
     "user": {
      "displayName": "Mario Caesar",
      "photoUrl": "https://lh3.googleusercontent.com/a-/AOh14GheyOtCjw9bQyrYjdnb46Fp9pWuEIUHVSHLqwMBBw=s64",
      "userId": "15479329890797732984"
     },
     "user_tz": -420
    },
    "id": "fMwoGg5BOKjo",
    "outputId": "354cd395-9fe5-4fc9-9ed7-07592e3b3e0a"
   },
   "outputs": [],
   "source": [
    "# Square Root Transformation\n",
    "\n",
    "df.ApplicantIncome = np.sqrt(df.ApplicantIncome)\n",
    "df.CoapplicantIncome = np.sqrt(df.CoapplicantIncome)\n",
    "df.LoanAmount = np.sqrt(df.LoanAmount)"
   ]
  },
  {
   "cell_type": "code",
   "execution_count": 94,
   "metadata": {
    "execution": {
     "iopub.execute_input": "2024-02-13T13:43:15.022245Z",
     "iopub.status.busy": "2024-02-13T13:43:15.021776Z",
     "iopub.status.idle": "2024-02-13T13:43:15.995044Z",
     "shell.execute_reply": "2024-02-13T13:43:15.994190Z",
     "shell.execute_reply.started": "2024-02-13T13:43:15.022209Z"
    },
    "executionInfo": {
     "elapsed": 1534,
     "status": "ok",
     "timestamp": 1636215167585,
     "user": {
      "displayName": "Mario Caesar",
      "photoUrl": "https://lh3.googleusercontent.com/a-/AOh14GheyOtCjw9bQyrYjdnb46Fp9pWuEIUHVSHLqwMBBw=s64",
      "userId": "15479329890797732984"
     },
     "user_tz": -420
    },
    "id": "5z_EKO1ITgTU",
    "outputId": "ec4e5ce5-f52f-49e0-bcf2-ef196960de2d"
   },
   "outputs": [
    {
     "data": {
      "image/png": "[encoded data removed]",
      "text/plain": [
       "<Figure size 720x576 with 4 Axes>"
      ]
     },
     "metadata": {},
     "output_type": "display_data"
    }
   ],
   "source": [
    "sns.set(style=\"darkgrid\")\n",
    "fig, axs = plt.subplots(2, 2, figsize=(10, 8))\n",
    "\n",
    "sns.histplot(data=df, x=\"ApplicantIncome\", kde=True, ax=axs[0, 0], color='green')\n",
    "sns.histplot(data=df, x=\"CoapplicantIncome\", kde=True, ax=axs[0, 1], color='skyblue')\n",
    "sns.histplot(data=df, x=\"LoanAmount\", kde=True, ax=axs[1, 0], color='orange');"
   ]
  },
  {
   "cell_type": "markdown",
   "metadata": {
    "id": "RF-7s2avUipu"
   },
   "source": [
    "👉 As can be seen, the distribution after using log transformation are much better compared to original distribution."
   ]
  },
  {
   "cell_type": "markdown",
   "metadata": {
    "id": "E6V0WTjKgwFj"
   },
   "source": [
    "## 5.5 Features Separating ➗\n",
    "👉 Dependent features (Loan_Status) will be seperated from independent features."
   ]
  },
  {
   "cell_type": "code",
   "execution_count": 95,
   "metadata": {
    "execution": {
     "iopub.execute_input": "2024-02-13T13:43:15.996407Z",
     "iopub.status.busy": "2024-02-13T13:43:15.996151Z",
     "iopub.status.idle": "2024-02-13T13:43:16.003511Z",
     "shell.execute_reply": "2024-02-13T13:43:16.002449Z",
     "shell.execute_reply.started": "2024-02-13T13:43:15.996377Z"
    },
    "id": "sJJVP_kPhZh1"
   },
   "outputs": [],
   "source": [
    "X = df.drop([\"Loan_Status\"], axis=1)\n",
    "y = df[\"Loan_Status\"]"
   ]
  },
  {
   "cell_type": "markdown",
   "metadata": {
    "id": "UpuBMRbEUx5n"
   },
   "source": [
    "## 5.6 SMOTE Technique 🔨\n",
    "👉 In previous exploration, it can be seen that **the number between approved and rejected loan is imbalanced**. In this section, **oversampling technique will be used to avoid overfitting**,"
   ]
  },
  {
   "cell_type": "code",
   "execution_count": 96,
   "metadata": {
    "execution": {
     "iopub.execute_input": "2024-02-13T13:43:16.004881Z",
     "iopub.status.busy": "2024-02-13T13:43:16.004660Z",
     "iopub.status.idle": "2024-02-13T13:43:16.022289Z",
     "shell.execute_reply": "2024-02-13T13:43:16.021228Z",
     "shell.execute_reply.started": "2024-02-13T13:43:16.004853Z"
    },
    "id": "FRrTxXZNU7Wg"
   },
   "outputs": [],
   "source": [
    "X, y = SMOTE().fit_resample(X, y)"
   ]
  },
  {
   "cell_type": "code",
   "execution_count": 97,
   "metadata": {
    "execution": {
     "iopub.execute_input": "2024-02-13T13:43:16.024183Z",
     "iopub.status.busy": "2024-02-13T13:43:16.023837Z",
     "iopub.status.idle": "2024-02-13T13:43:16.245111Z",
     "shell.execute_reply": "2024-02-13T13:43:16.244384Z",
     "shell.execute_reply.started": "2024-02-13T13:43:16.024120Z"
    },
    "executionInfo": {
     "elapsed": 22,
     "status": "ok",
     "timestamp": 1636215168412,
     "user": {
      "displayName": "Mario Caesar",
      "photoUrl": "https://lh3.googleusercontent.com/a-/AOh14GheyOtCjw9bQyrYjdnb46Fp9pWuEIUHVSHLqwMBBw=s64",
      "userId": "15479329890797732984"
     },
     "user_tz": -420
    },
    "id": "RVpxywzMzbQb",
    "outputId": "3b016bfb-0075-4b26-ee4a-88e5e59acfbf"
   },
   "outputs": [
    {
     "data": {
      "image/png": "[encoded data removed]",
      "text/plain": [
       "<Figure size 432x288 with 1 Axes>"
      ]
     },
     "metadata": {},
     "output_type": "display_data"
    }
   ],
   "source": [
    "sns.set_theme(style=\"darkgrid\")\n",
    "sns.countplot(y=y, data=df, palette=\"coolwarm\")\n",
    "plt.ylabel('Loan Status')\n",
    "plt.xlabel('Total')\n",
    "plt.show()"
   ]
  },
  {
   "cell_type": "markdown",
   "metadata": {
    "id": "KS8B6JYJ0GB9"
   },
   "source": [
    "👉 As can be seen, the distrubtion of Loan status are now **balanced**."
   ]
  },
  {
   "cell_type": "markdown",
   "metadata": {
    "id": "deRoCdMn0Y4S"
   },
   "source": [
    "## 5.7 Data Normalization ⚖\n",
    "👉 In this section, data normalization will be performed **to normalize the range of independent variables or features of data**."
   ]
  },
  {
   "cell_type": "code",
   "execution_count": 98,
   "metadata": {
    "execution": {
     "iopub.execute_input": "2024-02-13T13:43:16.246695Z",
     "iopub.status.busy": "2024-02-13T13:43:16.246120Z",
     "iopub.status.idle": "2024-02-13T13:43:16.256503Z",
     "shell.execute_reply": "2024-02-13T13:43:16.255634Z",
     "shell.execute_reply.started": "2024-02-13T13:43:16.246659Z"
    },
    "id": "WmA2qj9y0Yqo"
   },
   "outputs": [],
   "source": [
    "X = MinMaxScaler().fit_transform(X)"
   ]
  },
  {
   "cell_type": "markdown",
   "metadata": {
    "id": "n9-O0Q9D3XwK"
   },
   "source": [
    "## 5.8 Splitting Data Set 🪓\n",
    "👉 The data set will be split into **80% train and 20% test**."
   ]
  },
  {
   "cell_type": "code",
   "execution_count": 99,
   "metadata": {
    "execution": {
     "iopub.execute_input": "2024-02-13T13:43:16.258127Z",
     "iopub.status.busy": "2024-02-13T13:43:16.257892Z",
     "iopub.status.idle": "2024-02-13T13:43:16.266182Z",
     "shell.execute_reply": "2024-02-13T13:43:16.265191Z",
     "shell.execute_reply.started": "2024-02-13T13:43:16.258098Z"
    },
    "id": "sfenUwlr3c2Y"
   },
   "outputs": [],
   "source": [
    "X_train, X_test, y_train, y_test = train_test_split(X, y, test_size = 0.2, random_state = 0)"
   ]
  },
  {
   "cell_type": "markdown",
   "metadata": {
    "id": "3ixOkJUx3puI"
   },
   "source": [
    "# 6. Models 🛠"
   ]
  },
  {
   "cell_type": "markdown",
   "metadata": {
    "id": "MS0qL8PC4K3o"
   },
   "source": [
    "## 6.1 Logistic Regression"
   ]
  },
  {
   "cell_type": "code",
   "execution_count": 100,
   "metadata": {
    "execution": {
     "iopub.execute_input": "2024-02-13T13:43:16.267985Z",
     "iopub.status.busy": "2024-02-13T13:43:16.267653Z",
     "iopub.status.idle": "2024-02-13T13:43:16.288211Z",
     "shell.execute_reply": "2024-02-13T13:43:16.287196Z",
     "shell.execute_reply.started": "2024-02-13T13:43:16.267939Z"
    },
    "executionInfo": {
     "elapsed": 19,
     "status": "ok",
     "timestamp": 1636215168414,
     "user": {
      "displayName": "Mario Caesar",
      "photoUrl": "https://lh3.googleusercontent.com/a-/AOh14GheyOtCjw9bQyrYjdnb46Fp9pWuEIUHVSHLqwMBBw=s64",
      "userId": "15479329890797732984"
     },
     "user_tz": -420
    },
    "id": "Xa5A1VSf4Fgu",
    "outputId": "8b03e79f-86a0-4abf-c15e-47db0f151b0c"
   },
   "outputs": [
    {
     "name": "stdout",
     "output_type": "stream",
     "text": [
      "              precision    recall  f1-score   support\n",
      "\n",
      "           0       0.82      0.78      0.80        23\n",
      "           1       0.78      0.82      0.80        22\n",
      "\n",
      "    accuracy                           0.80        45\n",
      "   macro avg       0.80      0.80      0.80        45\n",
      "weighted avg       0.80      0.80      0.80        45\n",
      "\n",
      "[[18  5]\n",
      " [ 4 18]]\n",
      "LR accuracy: 80.00%\n"
     ]
    }
   ],
   "source": [
    "LRclassifier = LogisticRegression(solver='saga', max_iter=500, random_state=1)\n",
    "LRclassifier.fit(X_train, y_train)\n",
    "\n",
    "y_pred = LRclassifier.predict(X_test)\n",
    "\n",
    "print(classification_report(y_test, y_pred))\n",
    "print(confusion_matrix(y_test, y_pred))\n",
    "\n",
    "from sklearn.metrics import accuracy_score\n",
    "LRAcc = accuracy_score(y_pred,y_test)\n",
    "print('LR accuracy: {:.2f}%'.format(LRAcc*100))"
   ]
  },
  {
   "cell_type": "markdown",
   "metadata": {
    "id": "1taw0vyy7hu9"
   },
   "source": [
    "## 6.2 K-Nearest Neighbour (KNN)"
   ]
  },
  {
   "cell_type": "code",
   "execution_count": 101,
   "metadata": {
    "execution": {
     "iopub.execute_input": "2024-02-13T13:43:16.290194Z",
     "iopub.status.busy": "2024-02-13T13:43:16.289829Z",
     "iopub.status.idle": "2024-02-13T13:43:16.708710Z",
     "shell.execute_reply": "2024-02-13T13:43:16.707954Z",
     "shell.execute_reply.started": "2024-02-13T13:43:16.290130Z"
    },
    "executionInfo": {
     "elapsed": 16,
     "status": "ok",
     "timestamp": 1636215168414,
     "user": {
      "displayName": "Mario Caesar",
      "photoUrl": "https://lh3.googleusercontent.com/a-/AOh14GheyOtCjw9bQyrYjdnb46Fp9pWuEIUHVSHLqwMBBw=s64",
      "userId": "15479329890797732984"
     },
     "user_tz": -420
    },
    "id": "1c77uWXR5bwM",
    "outputId": "cc161975-009f-4f61-a175-86f581c6ae39"
   },
   "outputs": [
    {
     "data": {
      "image/png": "[encoded data removed]",
      "text/plain": [
       "<Figure size 432x288 with 1 Axes>"
      ]
     },
     "metadata": {},
     "output_type": "display_data"
    },
    {
     "name": "stdout",
     "output_type": "stream",
     "text": [
      "KNN best accuracy: 86.67%\n"
     ]
    }
   ],
   "source": [
    "scoreListknn = []\n",
    "for i in range(1,21):\n",
    "    KNclassifier = KNeighborsClassifier(n_neighbors = i)\n",
    "    KNclassifier.fit(X_train, y_train)\n",
    "    scoreListknn.append(KNclassifier.score(X_test, y_test))\n",
    "    \n",
    "plt.plot(range(1,21), scoreListknn)\n",
    "plt.xticks(np.arange(1,21,1))\n",
    "plt.xlabel(\"K value\")\n",
    "plt.ylabel(\"Score\")\n",
    "plt.show()\n",
    "KNAcc = max(scoreListknn)\n",
    "print(\"KNN best accuracy: {:.2f}%\".format(KNAcc*100))"
   ]
  },
  {
   "cell_type": "markdown",
   "metadata": {
    "id": "sZiCQChQ8IUG"
   },
   "source": [
    "## 6.3 Support Vector Machine (SVM)"
   ]
  },
  {
   "cell_type": "code",
   "execution_count": 102,
   "metadata": {
    "execution": {
     "iopub.execute_input": "2024-02-13T13:43:16.710640Z",
     "iopub.status.busy": "2024-02-13T13:43:16.710121Z",
     "iopub.status.idle": "2024-02-13T13:43:16.727319Z",
     "shell.execute_reply": "2024-02-13T13:43:16.726368Z",
     "shell.execute_reply.started": "2024-02-13T13:43:16.710603Z"
    },
    "executionInfo": {
     "elapsed": 15,
     "status": "ok",
     "timestamp": 1636215168414,
     "user": {
      "displayName": "Mario Caesar",
      "photoUrl": "https://lh3.googleusercontent.com/a-/AOh14GheyOtCjw9bQyrYjdnb46Fp9pWuEIUHVSHLqwMBBw=s64",
      "userId": "15479329890797732984"
     },
     "user_tz": -420
    },
    "id": "EaPdKhgx8RsA",
    "outputId": "9eea4d16-5f9c-49d3-feb1-5e1baf9dce68"
   },
   "outputs": [
    {
     "name": "stdout",
     "output_type": "stream",
     "text": [
      "              precision    recall  f1-score   support\n",
      "\n",
      "           0       0.86      0.83      0.84        23\n",
      "           1       0.83      0.86      0.84        22\n",
      "\n",
      "    accuracy                           0.84        45\n",
      "   macro avg       0.84      0.84      0.84        45\n",
      "weighted avg       0.85      0.84      0.84        45\n",
      "\n",
      "[[19  4]\n",
      " [ 3 19]]\n",
      "SVC accuracy: 84.44%\n"
     ]
    }
   ],
   "source": [
    "SVCclassifier = SVC(kernel='rbf', max_iter=500)\n",
    "SVCclassifier.fit(X_train, y_train)\n",
    "\n",
    "y_pred = SVCclassifier.predict(X_test)\n",
    "\n",
    "print(classification_report(y_test, y_pred))\n",
    "print(confusion_matrix(y_test, y_pred))\n",
    "\n",
    "from sklearn.metrics import accuracy_score\n",
    "SVCAcc = accuracy_score(y_pred,y_test)\n",
    "print('SVC accuracy: {:.2f}%'.format(SVCAcc*100))"
   ]
  },
  {
   "cell_type": "markdown",
   "metadata": {
    "id": "W5bkW7Ez9EQw"
   },
   "source": [
    "## 6.4 Naive Bayes"
   ]
  },
  {
   "cell_type": "markdown",
   "metadata": {
    "id": "z9iKq1Xy9fmw"
   },
   "source": [
    "### 6.4.1 Categorical NB"
   ]
  },
  {
   "cell_type": "code",
   "execution_count": 103,
   "metadata": {
    "execution": {
     "iopub.execute_input": "2024-02-13T13:43:16.729146Z",
     "iopub.status.busy": "2024-02-13T13:43:16.728741Z",
     "iopub.status.idle": "2024-02-13T13:43:16.747837Z",
     "shell.execute_reply": "2024-02-13T13:43:16.746823Z",
     "shell.execute_reply.started": "2024-02-13T13:43:16.729098Z"
    },
    "executionInfo": {
     "elapsed": 14,
     "status": "ok",
     "timestamp": 1636215168415,
     "user": {
      "displayName": "Mario Caesar",
      "photoUrl": "https://lh3.googleusercontent.com/a-/AOh14GheyOtCjw9bQyrYjdnb46Fp9pWuEIUHVSHLqwMBBw=s64",
      "userId": "15479329890797732984"
     },
     "user_tz": -420
    },
    "id": "OMt6iovq9D4Z",
    "outputId": "e540b802-c9e4-46e9-f5fe-a0a81137559f"
   },
   "outputs": [
    {
     "name": "stdout",
     "output_type": "stream",
     "text": [
      "              precision    recall  f1-score   support\n",
      "\n",
      "           0       0.81      0.74      0.77        23\n",
      "           1       0.75      0.82      0.78        22\n",
      "\n",
      "    accuracy                           0.78        45\n",
      "   macro avg       0.78      0.78      0.78        45\n",
      "weighted avg       0.78      0.78      0.78        45\n",
      "\n",
      "[[17  6]\n",
      " [ 4 18]]\n",
      "Categorical Naive Bayes accuracy: 77.78%\n"
     ]
    }
   ],
   "source": [
    "NBclassifier1 = CategoricalNB()\n",
    "NBclassifier1.fit(X_train, y_train)\n",
    "\n",
    "y_pred = NBclassifier1.predict(X_test)\n",
    "\n",
    "print(classification_report(y_test, y_pred))\n",
    "print(confusion_matrix(y_test, y_pred))\n",
    "\n",
    "from sklearn.metrics import accuracy_score\n",
    "NBAcc1 = accuracy_score(y_pred,y_test)\n",
    "print('Categorical Naive Bayes accuracy: {:.2f}%'.format(NBAcc1*100))"
   ]
  },
  {
   "cell_type": "markdown",
   "metadata": {
    "id": "bjlQpJN59UbD"
   },
   "source": [
    "### 6.4.2 Gaussian NB"
   ]
  },
  {
   "cell_type": "code",
   "execution_count": 104,
   "metadata": {
    "execution": {
     "iopub.execute_input": "2024-02-13T13:43:16.749282Z",
     "iopub.status.busy": "2024-02-13T13:43:16.749035Z",
     "iopub.status.idle": "2024-02-13T13:43:16.763563Z",
     "shell.execute_reply": "2024-02-13T13:43:16.762690Z",
     "shell.execute_reply.started": "2024-02-13T13:43:16.749253Z"
    },
    "executionInfo": {
     "elapsed": 12,
     "status": "ok",
     "timestamp": 1636215168415,
     "user": {
      "displayName": "Mario Caesar",
      "photoUrl": "https://lh3.googleusercontent.com/a-/AOh14GheyOtCjw9bQyrYjdnb46Fp9pWuEIUHVSHLqwMBBw=s64",
      "userId": "15479329890797732984"
     },
     "user_tz": -420
    },
    "id": "RJv2_DVl9Tn8",
    "outputId": "ccdeb68c-b960-4824-e00f-acc78366a610"
   },
   "outputs": [
    {
     "name": "stdout",
     "output_type": "stream",
     "text": [
      "              precision    recall  f1-score   support\n",
      "\n",
      "           0       0.74      0.87      0.80        23\n",
      "           1       0.83      0.68      0.75        22\n",
      "\n",
      "    accuracy                           0.78        45\n",
      "   macro avg       0.79      0.78      0.77        45\n",
      "weighted avg       0.79      0.78      0.78        45\n",
      "\n",
      "[[20  3]\n",
      " [ 7 15]]\n",
      "Gaussian Naive Bayes accuracy: 77.78%\n"
     ]
    }
   ],
   "source": [
    "NBclassifier2 = GaussianNB()\n",
    "NBclassifier2.fit(X_train, y_train)\n",
    "\n",
    "y_pred = NBclassifier2.predict(X_test)\n",
    "\n",
    "print(classification_report(y_test, y_pred))\n",
    "print(confusion_matrix(y_test, y_pred))\n",
    "\n",
    "from sklearn.metrics import accuracy_score\n",
    "NBAcc2 = accuracy_score(y_pred,y_test)\n",
    "print('Gaussian Naive Bayes accuracy: {:.2f}%'.format(NBAcc2*100))"
   ]
  },
  {
   "cell_type": "markdown",
   "metadata": {
    "id": "cnen-6ZD9ZWc"
   },
   "source": [
    "## 6.5 Decision Tree"
   ]
  },
  {
   "cell_type": "code",
   "execution_count": 105,
   "metadata": {
    "execution": {
     "iopub.execute_input": "2024-02-13T13:43:16.764833Z",
     "iopub.status.busy": "2024-02-13T13:43:16.764616Z",
     "iopub.status.idle": "2024-02-13T13:43:17.115351Z",
     "shell.execute_reply": "2024-02-13T13:43:17.114594Z",
     "shell.execute_reply.started": "2024-02-13T13:43:16.764805Z"
    },
    "executionInfo": {
     "elapsed": 845,
     "status": "ok",
     "timestamp": 1636215169251,
     "user": {
      "displayName": "Mario Caesar",
      "photoUrl": "https://lh3.googleusercontent.com/a-/AOh14GheyOtCjw9bQyrYjdnb46Fp9pWuEIUHVSHLqwMBBw=s64",
      "userId": "15479329890797732984"
     },
     "user_tz": -420
    },
    "id": "twABLtSw9icG",
    "outputId": "d7fccec0-b734-41ee-fc47-668aad7f7466"
   },
   "outputs": [
    {
     "data": {
      "image/png": "[encoded data removed]",
      "text/plain": [
       "<Figure size 432x288 with 1 Axes>"
      ]
     },
     "metadata": {},
     "output_type": "display_data"
    },
    {
     "name": "stdout",
     "output_type": "stream",
     "text": [
      "Decision Tree Accuracy: 84.44%\n"
     ]
    }
   ],
   "source": [
    "scoreListDT = []\n",
    "for i in range(2,21):\n",
    "    DTclassifier = DecisionTreeClassifier(max_leaf_nodes=i)\n",
    "    DTclassifier.fit(X_train, y_train)\n",
    "    scoreListDT.append(DTclassifier.score(X_test, y_test))\n",
    "    \n",
    "plt.plot(range(2,21), scoreListDT)\n",
    "plt.xticks(np.arange(2,21,1))\n",
    "plt.xlabel(\"Leaf\")\n",
    "plt.ylabel(\"Score\")\n",
    "plt.show()\n",
    "DTAcc = max(scoreListDT)\n",
    "print(\"Decision Tree Accuracy: {:.2f}%\".format(DTAcc*100))"
   ]
  },
  {
   "cell_type": "markdown",
   "metadata": {
    "id": "GfW_OJU69opG"
   },
   "source": [
    "## 6.6 Random Forest"
   ]
  },
  {
   "cell_type": "code",
   "execution_count": 106,
   "metadata": {
    "execution": {
     "iopub.execute_input": "2024-02-13T13:43:17.119848Z",
     "iopub.status.busy": "2024-02-13T13:43:17.119026Z",
     "iopub.status.idle": "2024-02-13T13:43:54.565025Z",
     "shell.execute_reply": "2024-02-13T13:43:54.564160Z",
     "shell.execute_reply.started": "2024-02-13T13:43:17.119795Z"
    },
    "executionInfo": {
     "elapsed": 33809,
     "status": "ok",
     "timestamp": 1636215203059,
     "user": {
      "displayName": "Mario Caesar",
      "photoUrl": "https://lh3.googleusercontent.com/a-/AOh14GheyOtCjw9bQyrYjdnb46Fp9pWuEIUHVSHLqwMBBw=s64",
      "userId": "15479329890797732984"
     },
     "user_tz": -420
    },
    "id": "TnLwqYnP9pD7",
    "outputId": "1f94c144-81b1-4f57-973f-e150b09a656b"
   },
   "outputs": [
    {
     "data": {
      "image/png": "[encoded data removed]",
      "text/plain": [
       "<Figure size 432x288 with 1 Axes>"
      ]
     },
     "metadata": {},
     "output_type": "display_data"
    },
    {
     "name": "stdout",
     "output_type": "stream",
     "text": [
      "Random Forest Accuracy:  82.22%\n"
     ]
    }
   ],
   "source": [
    "scoreListRF = []\n",
    "for i in range(2,25):\n",
    "    RFclassifier = RandomForestClassifier(n_estimators = 1000, random_state = 1, max_leaf_nodes=i)\n",
    "    RFclassifier.fit(X_train, y_train)\n",
    "    scoreListRF.append(RFclassifier.score(X_test, y_test))\n",
    "    \n",
    "plt.plot(range(2,25), scoreListRF)\n",
    "plt.xticks(np.arange(2,25,1))\n",
    "plt.xlabel(\"RF Value\")\n",
    "plt.ylabel(\"Score\")\n",
    "plt.show()\n",
    "RFAcc = max(scoreListRF)\n",
    "print(\"Random Forest Accuracy:  {:.2f}%\".format(RFAcc*100))"
   ]
  },
  {
   "cell_type": "markdown",
   "metadata": {
    "id": "2AszJDft-gc6"
   },
   "source": [
    "## 6.7 Gradient Boosting"
   ]
  },
  {
   "cell_type": "code",
   "execution_count": 107,
   "metadata": {
    "execution": {
     "iopub.execute_input": "2024-02-13T13:43:54.567429Z",
     "iopub.status.busy": "2024-02-13T13:43:54.566606Z",
     "iopub.status.idle": "2024-02-13T13:43:54.573884Z",
     "shell.execute_reply": "2024-02-13T13:43:54.572892Z",
     "shell.execute_reply.started": "2024-02-13T13:43:54.567380Z"
    },
    "id": "Ev-NFeI0-WcW"
   },
   "outputs": [],
   "source": [
    "paramsGB={'n_estimators':[100,200,300,400,500],\n",
    "      'max_depth':[1,2,3,4,5],\n",
    "      'subsample':[0.5,1],\n",
    "      'max_leaf_nodes':[2,5,10,20,30,40,50]}"
   ]
  },
  {
   "cell_type": "code",
   "execution_count": 108,
   "metadata": {
    "execution": {
     "iopub.execute_input": "2024-02-13T13:43:54.575942Z",
     "iopub.status.busy": "2024-02-13T13:43:54.575616Z",
     "iopub.status.idle": "2024-02-13T13:44:40.274086Z",
     "shell.execute_reply": "2024-02-13T13:44:40.273320Z",
     "shell.execute_reply.started": "2024-02-13T13:43:54.575898Z"
    },
    "executionInfo": {
     "elapsed": 46939,
     "status": "ok",
     "timestamp": 1636215249994,
     "user": {
      "displayName": "Mario Caesar",
      "photoUrl": "https://lh3.googleusercontent.com/a-/AOh14GheyOtCjw9bQyrYjdnb46Fp9pWuEIUHVSHLqwMBBw=s64",
      "userId": "15479329890797732984"
     },
     "user_tz": -420
    },
    "id": "r46JuovY-j9z",
    "outputId": "d6f0a481-719d-43dd-faa6-548f08d6ab46"
   },
   "outputs": [
    {
     "data": {
      "text/plain": [
       "RandomizedSearchCV(cv=20, estimator=GradientBoostingClassifier(),\n",
       "                   param_distributions={'max_depth': [1, 2, 3, 4, 5],\n",
       "                                        'max_leaf_nodes': [2, 5, 10, 20, 30, 40,\n",
       "                                                           50],\n",
       "                                        'n_estimators': [100, 200, 300, 400,\n",
       "                                                         500],\n",
       "                                        'subsample': [0.5, 1]})"
      ]
     },
     "execution_count": 108,
     "metadata": {},
     "output_type": "execute_result"
    }
   ],
   "source": [
    "GB = RandomizedSearchCV(GradientBoostingClassifier(), paramsGB, cv=20)\n",
    "GB.fit(X_train, y_train)"
   ]
  },
  {
   "cell_type": "code",
   "execution_count": 109,
   "metadata": {
    "execution": {
     "iopub.execute_input": "2024-02-13T13:44:40.275666Z",
     "iopub.status.busy": "2024-02-13T13:44:40.275159Z",
     "iopub.status.idle": "2024-02-13T13:44:40.282523Z",
     "shell.execute_reply": "2024-02-13T13:44:40.281707Z",
     "shell.execute_reply.started": "2024-02-13T13:44:40.275634Z"
    },
    "executionInfo": {
     "elapsed": 13,
     "status": "ok",
     "timestamp": 1636215249995,
     "user": {
      "displayName": "Mario Caesar",
      "photoUrl": "https://lh3.googleusercontent.com/a-/AOh14GheyOtCjw9bQyrYjdnb46Fp9pWuEIUHVSHLqwMBBw=s64",
      "userId": "15479329890797732984"
     },
     "user_tz": -420
    },
    "id": "y-rIVPNu-qyZ",
    "outputId": "d66c9ccc-6e48-4737-9a10-c10afd3331b6"
   },
   "outputs": [
    {
     "name": "stdout",
     "output_type": "stream",
     "text": [
      "GradientBoostingClassifier(max_depth=5, max_leaf_nodes=20, n_estimators=400,\n",
      "                           subsample=1)\n",
      "0.8493055555555555\n",
      "{'subsample': 1, 'n_estimators': 400, 'max_leaf_nodes': 20, 'max_depth': 5}\n",
      "2\n"
     ]
    }
   ],
   "source": [
    "print(GB.best_estimator_)\n",
    "print(GB.best_score_)\n",
    "print(GB.best_params_)\n",
    "print(GB.best_index_)"
   ]
  },
  {
   "cell_type": "code",
   "execution_count": 110,
   "metadata": {
    "execution": {
     "iopub.execute_input": "2024-02-13T13:44:40.284281Z",
     "iopub.status.busy": "2024-02-13T13:44:40.283661Z",
     "iopub.status.idle": "2024-02-13T13:44:40.625301Z",
     "shell.execute_reply": "2024-02-13T13:44:40.624434Z",
     "shell.execute_reply.started": "2024-02-13T13:44:40.284248Z"
    },
    "executionInfo": {
     "elapsed": 804,
     "status": "ok",
     "timestamp": 1636215250789,
     "user": {
      "displayName": "Mario Caesar",
      "photoUrl": "https://lh3.googleusercontent.com/a-/AOh14GheyOtCjw9bQyrYjdnb46Fp9pWuEIUHVSHLqwMBBw=s64",
      "userId": "15479329890797732984"
     },
     "user_tz": -420
    },
    "id": "anLZFMBWAPAG",
    "outputId": "07469f40-36a5-4153-d89a-973409f384e2"
   },
   "outputs": [
    {
     "name": "stdout",
     "output_type": "stream",
     "text": [
      "              precision    recall  f1-score   support\n",
      "\n",
      "           0       0.73      0.70      0.71        23\n",
      "           1       0.70      0.73      0.71        22\n",
      "\n",
      "    accuracy                           0.71        45\n",
      "   macro avg       0.71      0.71      0.71        45\n",
      "weighted avg       0.71      0.71      0.71        45\n",
      "\n",
      "[[16  7]\n",
      " [ 6 16]]\n",
      "Gradient Boosting accuracy: 71.11%\n"
     ]
    }
   ],
   "source": [
    "GBclassifier = GradientBoostingClassifier(subsample=0.5, n_estimators=400, max_depth=4, max_leaf_nodes=10)\n",
    "GBclassifier.fit(X_train, y_train)\n",
    "\n",
    "y_pred = GBclassifier.predict(X_test)\n",
    "\n",
    "print(classification_report(y_test, y_pred))\n",
    "print(confusion_matrix(y_test, y_pred))\n",
    "\n",
    "from sklearn.metrics import accuracy_score\n",
    "GBAcc = accuracy_score(y_pred,y_test)\n",
    "print('Gradient Boosting accuracy: {:.2f}%'.format(GBAcc*100))"
   ]
  },
  {
   "cell_type": "markdown",
   "metadata": {
    "id": "x1vw6r9ICK8J"
   },
   "source": [
    "# 7. Model Comparison 👀"
   ]
  },
  {
   "cell_type": "code",
   "execution_count": 111,
   "metadata": {
    "execution": {
     "iopub.execute_input": "2024-02-13T13:44:40.626987Z",
     "iopub.status.busy": "2024-02-13T13:44:40.626759Z",
     "iopub.status.idle": "2024-02-13T13:44:40.641806Z",
     "shell.execute_reply": "2024-02-13T13:44:40.640843Z",
     "shell.execute_reply.started": "2024-02-13T13:44:40.626960Z"
    },
    "executionInfo": {
     "elapsed": 11,
     "status": "ok",
     "timestamp": 1636215250790,
     "user": {
      "displayName": "Mario Caesar",
      "photoUrl": "https://lh3.googleusercontent.com/a-/AOh14GheyOtCjw9bQyrYjdnb46Fp9pWuEIUHVSHLqwMBBw=s64",
      "userId": "15479329890797732984"
     },
     "user_tz": -420
    },
    "id": "SGzOLxRMArx0",
    "outputId": "2f1341e3-685a-47a5-8785-4930b1de7da3"
   },
   "outputs": [
    {
     "data": {
      "text/html": [
       "<div>\n",
       "<style scoped>\n",
       "    .dataframe tbody tr th:only-of-type {\n",
       "        vertical-align: middle;\n",
       "    }\n",
       "\n",
       "    .dataframe tbody tr th {\n",
       "        vertical-align: top;\n",
       "    }\n",
       "\n",
       "    .dataframe thead th {\n",
       "        text-align: right;\n",
       "    }\n",
       "</style>\n",
       "<table border=\"1\" class=\"dataframe\">\n",
       "  <thead>\n",
       "    <tr style=\"text-align: right;\">\n",
       "      <th></th>\n",
       "      <th>Model</th>\n",
       "      <th>Accuracy</th>\n",
       "    </tr>\n",
       "  </thead>\n",
       "  <tbody>\n",
       "    <tr>\n",
       "      <th>1</th>\n",
       "      <td>K Neighbors</td>\n",
       "      <td>86.666667</td>\n",
       "    </tr>\n",
       "    <tr>\n",
       "      <th>2</th>\n",
       "      <td>SVM</td>\n",
       "      <td>84.444444</td>\n",
       "    </tr>\n",
       "    <tr>\n",
       "      <th>5</th>\n",
       "      <td>Decision Tree</td>\n",
       "      <td>84.444444</td>\n",
       "    </tr>\n",
       "    <tr>\n",
       "      <th>6</th>\n",
       "      <td>Random Forest</td>\n",
       "      <td>82.222222</td>\n",
       "    </tr>\n",
       "    <tr>\n",
       "      <th>0</th>\n",
       "      <td>Logistic Regression</td>\n",
       "      <td>80.000000</td>\n",
       "    </tr>\n",
       "    <tr>\n",
       "      <th>3</th>\n",
       "      <td>Categorical NB</td>\n",
       "      <td>77.777778</td>\n",
       "    </tr>\n",
       "    <tr>\n",
       "      <th>4</th>\n",
       "      <td>Gaussian NB</td>\n",
       "      <td>77.777778</td>\n",
       "    </tr>\n",
       "    <tr>\n",
       "      <th>7</th>\n",
       "      <td>Gradient Boost</td>\n",
       "      <td>71.111111</td>\n",
       "    </tr>\n",
       "  </tbody>\n",
       "</table>\n",
       "</div>"
      ],
      "text/plain": [
       "                 Model   Accuracy\n",
       "1          K Neighbors  86.666667\n",
       "2                  SVM  84.444444\n",
       "5        Decision Tree  84.444444\n",
       "6        Random Forest  82.222222\n",
       "0  Logistic Regression  80.000000\n",
       "3       Categorical NB  77.777778\n",
       "4          Gaussian NB  77.777778\n",
       "7       Gradient Boost  71.111111"
      ]
     },
     "execution_count": 111,
     "metadata": {},
     "output_type": "execute_result"
    }
   ],
   "source": [
    "compare = pd.DataFrame({'Model': ['Logistic Regression', 'K Neighbors', \n",
    "                                  'SVM', 'Categorical NB', \n",
    "                                  'Gaussian NB', 'Decision Tree', \n",
    "                                  'Random Forest', 'Gradient Boost'], \n",
    "                        'Accuracy': [LRAcc*100, KNAcc*100, SVCAcc*100, \n",
    "                                     NBAcc1*100, NBAcc2*100, DTAcc*100, \n",
    "                                     RFAcc*100, GBAcc*100]})\n",
    "compare.sort_values(by='Accuracy', ascending=False)"
   ]
  },
  {
   "cell_type": "markdown",
   "metadata": {
    "id": "_5Iao5hYCOsI"
   },
   "source": [
    "## 👉 In general, it can be seen that **all models can achieve up to 70% accuracy**. <br>\n",
    "👉 The highest accuracy is **86.7%%**. <br><br>\n",
    "👉 If you have any suggestions to **improve** these models, we can *discuss in the comments* :)."
   ]
  },
  {
   "cell_type": "code",
   "execution_count": null,
   "metadata": {},
   "outputs": [],
   "source": []
  }
 ],
 "metadata": {
  "kaggle": {
   "accelerator": "none",
   "dataSources": [
    {
     "datasetId": 15953,
     "sourceId": 21070,
     "sourceType": "datasetVersion"
    },
    {
     "datasetId": 74581,
     "sourceId": 169310,
     "sourceType": "datasetVersion"
    },
    {
     "datasetId": 91803,
     "sourceId": 213142,
     "sourceType": "datasetVersion"
    },
    {
     "datasetId": 228063,
     "sourceId": 488290,
     "sourceType": "datasetVersion"
    },
    {
     "datasetId": 831855,
     "sourceId": 1420931,
     "sourceType": "datasetVersion"
    }
   ],
   "dockerImageVersionId": 30145,
   "isGpuEnabled": false,
   "isInternetEnabled": true,
   "language": "python",
   "sourceType": "notebook"
  },
  "kernelspec": {
   "display_name": "Python 3 (ipykernel)",
   "language": "python",
   "name": "python3"
  },
  "language_info": {
   "codemirror_mode": {
    "name": "ipython",
    "version": 3
   },
   "file_extension": ".py",
   "mimetype": "text/x-python",
   "name": "python",
   "nbconvert_exporter": "python",
   "pygments_lexer": "ipython3",
   "version": "3.11.5"
  }
 },
 "nbformat": 4,
 "nbformat_minor": 4
}
